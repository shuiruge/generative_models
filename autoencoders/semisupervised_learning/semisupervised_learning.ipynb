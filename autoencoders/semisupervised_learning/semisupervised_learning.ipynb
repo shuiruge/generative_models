{
 "cells": [
  {
   "cell_type": "markdown",
   "metadata": {},
   "source": [
    "* This notebook implements the SSL model in [Kingma (2014)](https://arxiv.org/abs/1406.5298).\n",
    "* C.f. [this implementation](https://github.com/wiseodd/generative-models/blob/master/VAE/conditional_vae/cvae_tensorflow.py)."
   ]
  },
  {
   "cell_type": "markdown",
   "metadata": {},
   "source": [
    "> What I cannot create I cannot understand."
   ]
  },
  {
   "cell_type": "markdown",
   "metadata": {},
   "source": [
    "## Conditional Variational Auto-encoder"
   ]
  },
  {
   "cell_type": "markdown",
   "metadata": {},
   "source": [
    "### Motivation"
   ]
  },
  {
   "cell_type": "markdown",
   "metadata": {},
   "source": [
    "* Conditional variational auto-encoder extends variational auto-encoder."
   ]
  },
  {
   "cell_type": "markdown",
   "metadata": {},
   "source": [
    "### Definitions"
   ]
  },
  {
   "cell_type": "markdown",
   "metadata": {},
   "source": [
    "* Let $X$ be the observed random variable and $Y, Z$ the latent. Let\n",
    "\n",
    "  \\begin{equation}\n",
    "    Y, Z \\sim P_{Y, Z}\n",
    "  \\end{equation}\n",
    "\n",
    "  be some given prior.\n",
    "  \n",
    "* And let\n",
    "\n",
    "  \\begin{equation}\n",
    "    X \\mid Y, Z \\sim P_{X \\mid Y, Z; \\phi}\n",
    "  \\end{equation}\n",
    "\n",
    "  for some distribution in a family parameterized by $\\phi$."
   ]
  },
  {
   "cell_type": "markdown",
   "metadata": {},
   "source": [
    "For instance, if $X \\in \\mathbb{R}$, it is general to assume a multivariate Gaussian distribution, diagonalized or semi-diagonalized, then we have\n",
    "\n",
    "\\begin{equation}\n",
    "  X \\mid Y, Z \\sim \\mathcal{N} \\left( \\mu(Y, Z; \\phi_1), \\sigma(Y, Z; \\phi_2) \\right),\n",
    "\\end{equation}\n",
    "\n",
    "for some universality functions $\\mu(\\cdot; \\phi_2)$ and $\\sigma(\\cdot; \\phi_2)$ and $\\phi := (\\phi_1, \\phi_2)$."
   ]
  },
  {
   "cell_type": "markdown",
   "metadata": {},
   "source": [
    "### Variational Inference"
   ]
  },
  {
   "cell_type": "markdown",
   "metadata": {},
   "source": [
    "Utilization of the dataset of $(x, y)$ forces us to employ some distribution $q(z \\mid x, y)$ (to be determined) to fit $p(z \\mid x, y)$ (and if the dataset is of $(y, z)$, then we are forced to $p(x \\mid y, z)$ instead), then we have the bound by KL-divergence\n",
    "\n",
    "\\begin{equation}\n",
    "  \\text{KL} \\left( q(z \\mid x,y) \\| p(z \\mid x,y) \\right)\n",
    "  = \\text{KL} \\left( q(z \\mid x,y) \\| p(x, y, z) \\right) + \\ln p(x, y)\n",
    "  \\geq 0.\n",
    "\\end{equation}\n",
    "\n",
    "Thus, a loss\n",
    "\n",
    "\\begin{align}\n",
    "  L(x, y)\n",
    "  & := \\text{KL} \\left( q(z \\mid x,y) \\| p(x, y, z) \\right) \\\\\n",
    "  & := \\mathbb{E}_{z \\sim q(z \\mid x,y)} \\left[\n",
    "         \\ln q(z \\mid x,y) - \\ln p(x \\mid y,z) - \\ln p(y,z) \\right] \\\\\n",
    "  & \\geq - \\ln p(x, y).\n",
    "\\end{align}\n",
    "\n",
    "The equality can be reached if and only if $q(z \\mid x, y) = p(z \\mid x, y)$."
   ]
  },
  {
   "cell_type": "markdown",
   "metadata": {},
   "source": [
    "### Relation with Auto-encoder"
   ]
  },
  {
   "cell_type": "markdown",
   "metadata": {},
   "source": [
    "* The $\\mathbb{E}_{z \\sim q(z \\mid x, y)} \\left[ - \\ln p(x \\mid y, z) \\right]$ part can be interpreted as a reconstruction loss.\n",
    "\n",
    "* The $\\mathbb{E}_{z \\sim q(z \\mid x, y)} \\left[ - \\ln p(y, z) \\right]$ part serves as regularization terms.\n",
    "\n",
    "* It seems that the $\\mathbb{E}_{z \\sim q(z \\mid x, y)} \\left[ \\ln q(z \\mid x, y) \\right]$ part has no correspondence in auto-encoder."
   ]
  },
  {
   "cell_type": "markdown",
   "metadata": {},
   "source": [
    "### Example"
   ]
  },
  {
   "cell_type": "markdown",
   "metadata": {},
   "source": [
    "In this very example on the MNIST dataset:\n",
    "\n",
    "\\begin{align}\n",
    "  Y & \\sim \\text{Categorical uniform}; \\\\\n",
    "  Z & \\sim \\mathcal{N} (0, 1); \\\\\n",
    "  X \\mid Y, Z & \\sim \\text{Bernoulli}\\left( p(y, z; \\theta) \\right).\n",
    "\\end{align}\n",
    "\n",
    "And inference distributions:\n",
    "\n",
    "\\begin{align}\n",
    "  Z_0 \\mid X, Y & \\sim \\mathcal{N}\\left( \\mu(x, y; \\phi_1), \\sigma(x, y; \\phi_2) \\right); \\\\\n",
    "  Z \\mid Z_0 & \\sim T(z_0).\n",
    "\\end{align}\n",
    "\n",
    "where $Z_0$ obeys the \"base inference distribution\", as a Gaussian; and $T$ is bijective with universality."
   ]
  },
  {
   "cell_type": "markdown",
   "metadata": {},
   "source": [
    "## Semi-supervised Learning"
   ]
  },
  {
   "cell_type": "markdown",
   "metadata": {},
   "source": [
    "### Motivation"
   ]
  },
  {
   "cell_type": "markdown",
   "metadata": {},
   "source": [
    "* Semi-supervised learning utilizes the conditional variational auto-encoder."
   ]
  },
  {
   "cell_type": "markdown",
   "metadata": {},
   "source": [
    "### Definitions"
   ]
  },
  {
   "cell_type": "markdown",
   "metadata": {},
   "source": [
    "* Let\n",
    "\n",
    "  \\begin{equation}\n",
    "    Y \\mid Z \\sim P_{Y \\mid Z; \\theta}.\n",
    "  \\end{equation}\n",
    "  \n",
    "  for some distribution in a family parameterized by $\\theta$."
   ]
  },
  {
   "cell_type": "markdown",
   "metadata": {},
   "source": [
    "### Variational Inference"
   ]
  },
  {
   "cell_type": "markdown",
   "metadata": {},
   "source": [
    "By the conditional probability formula,\n",
    "\n",
    "\\begin{equation}\n",
    "  p(y, z \\mid x) = p(z \\mid x, y) p(y \\mid x).\n",
    "\\end{equation}\n",
    "\n",
    "With this formula, we have the bound by KL-divergence,\n",
    "\n",
    "\\begin{align}\n",
    "  \\text{KL} \\left( q(y, z \\mid x) \\| p(y, z \\mid x) \\right)\n",
    "  & = \\int q(y, z \\mid x) \\left[\n",
    "        \\ln q(y, z \\mid x) - \\ln p(y, z \\mid x)\n",
    "        \\right] dy dz \\\\\n",
    "  & = \\int q(z \\mid x, y) q(y \\mid x) \\left[\n",
    "        \\ln q(z \\mid x, y) + \\ln q(y \\mid x) - \\ln p(x \\mid y, z) - \\ln p(y, z)\n",
    "        \\right] dy dz \\\\\n",
    "  & + \\ln p(x).\n",
    "\\end{align}\n",
    "\n",
    "Integrating out $z$ gives\n",
    "\n",
    "\\begin{align}\n",
    "  \\text{KL} \\left( q(y, z \\mid x) \\| p(y, z \\mid x) \\right)\n",
    "  & = \\int q(y \\mid x) \\left[ L(x, y) + \\ln q(y \\mid x) \\right] dy  + \\ln p(x) \\\\\n",
    "  & = \\mathbb{E}_{y \\sim q(y \\mid x)} \\left[ L(x, y) \\right]\n",
    "    - \\mathcal{H} \\left[ q(y \\mid x) \\right]\n",
    "    + \\ln p(x) \\\\\n",
    "  & \\geq 0.\n",
    "\\end{align}\n",
    "\n",
    "Thus a loss\n",
    "\n",
    "\\begin{align}\n",
    "  U(x) & := \\mathbb{E}_{y \\sim q(y \\mid x)} \\left[ L(x, y) \\right]\n",
    "          - \\mathcal{H} \\left[ q(y \\mid x) \\right] \\\\\n",
    "       & \\geq - \\ln p(x).\n",
    "\\end{align}\n",
    "\n",
    "The equality can be reached if and only if $q(y \\mid x) = p(y \\mid x)$, then $q(y, z \\mid x) = p(y, z \\mid x)$."
   ]
  },
  {
   "cell_type": "markdown",
   "metadata": {},
   "source": [
    "This loss can be derived in a more concise way. By approximation $-\\ln p(x, y) \\approx L(x, y)$,\n",
    "\n",
    "\\begin{align}\n",
    "  \\text{KL} \\left( q(y \\mid x) \\| p(y \\mid x) \\right)\n",
    "  & = \\int q(y \\mid x) \\left[ \\ln q(y \\mid x) - \\ln p(y \\mid x) \\right] dy \\\\\n",
    "  & = \\int q(y \\mid x) \\left[ \\ln q(y \\mid x) - \\ln p(x, y) \\right] dy + \\ln p(x) \\\\\n",
    "  & \\approx \\int q(y \\mid x) \\left[ \\ln q(y \\mid x) + \\ln L(x, y) \\right] dy\n",
    "    + \\ln p(x) \\\\\n",
    "  & = \\mathbb{E}_{y \\sim q(y \\mid x)} \\left[ L(x, y) \\right]\n",
    "    - \\mathcal{H} \\left[ q(y \\mid x) \\right].\n",
    "\\end{align}\n",
    "\n",
    "Thus, again,\n",
    "\n",
    "\\begin{align}\n",
    "  U(x) & := \\mathbb{E}_{y \\sim q(y \\mid x)} \\left[ L(x, y) \\right]\n",
    "          - \\mathcal{H} \\left[ q(y \\mid x) \\right] \\\\\n",
    "       & \\geq - \\ln p(x).\n",
    "\\end{align}\n",
    "\n",
    "The equality can be reached if and only if $q(y \\mid x) = p(y \\mid x)$."
   ]
  },
  {
   "cell_type": "markdown",
   "metadata": {},
   "source": [
    "The trick in the training is that, the minimization of $L(x, y)$ has **completed** the training of the variables in $p(x \\mid y, z)$ and $q(z \\mid x, y)$, which, thus, shall\n",
    "**not** be trained further in the minimization of $U(x)$."
   ]
  },
  {
   "cell_type": "markdown",
   "metadata": {},
   "source": [
    "(The strange thing is that, after training the variables in $p(x \\mid y, z)$ and $q(z \\mid x, y)$ by minimizing $L(x, y)$, if train them further in the minimizing of $U(x)$, then the trained variables will give a **higher** $L(x, y)$ than that after the minimization of its own. Why?)"
   ]
  },
  {
   "cell_type": "markdown",
   "metadata": {},
   "source": [
    "### Example"
   ]
  },
  {
   "cell_type": "markdown",
   "metadata": {},
   "source": [
    "In this very example:\n",
    "\n",
    "\\begin{equation}\n",
    "  Y \\mid Z \\sim \\text{Categorical} \\left( \\pi(Z; \\theta) \\right).\n",
    "\\end{equation}"
   ]
  },
  {
   "cell_type": "markdown",
   "metadata": {},
   "source": [
    "## Implementation"
   ]
  },
  {
   "cell_type": "markdown",
   "metadata": {},
   "source": [
    "In this implementation, we follow the spirit of TensorFlow, hiding the parameters of functions. That is, define `L(X, y; phi)` as `L(phi)(X, y)`."
   ]
  },
  {
   "cell_type": "code",
   "execution_count": 1,
   "metadata": {},
   "outputs": [],
   "source": [
    "%matplotlib inline\n",
    "\n",
    "from IPython.display import display\n",
    "import matplotlib.pyplot as plt\n",
    "from PIL import Image\n",
    "from tqdm import tqdm\n",
    "import numpy as np\n",
    "import tensorflow as tf\n",
    "import tensorflow.contrib.distributions as tfd\n",
    "from tensorflow.contrib.distributions.python.ops import bijectors as tfb\n",
    "from tensorflow.examples.tutorials.mnist import input_data\n",
    "from scipy.special import logsumexp\n",
    "\n",
    "# For reproducibility\n",
    "seed = 42\n",
    "np.random.seed(seed)\n",
    "tf.set_random_seed(seed)"
   ]
  },
  {
   "cell_type": "markdown",
   "metadata": {},
   "source": [
    "### Functions"
   ]
  },
  {
   "cell_type": "code",
   "execution_count": 2,
   "metadata": {},
   "outputs": [],
   "source": [
    "def get_q_z_Xy(X, y, z_dim, hidden_layers=None, bijectors=None,\n",
    "               dtype='float32', name='q_z_Xy', reuse=None):\n",
    "  \"\"\"Returns the distribution of Z | X, Y.\n",
    "  \n",
    "  Z = bijector(Z_0), and\n",
    "  Z_0 | X, Y ~ Normal(mu(X,Y;phi), sigma(X,Y;phi)).\n",
    "  \n",
    "  Args:\n",
    "    X: Tensor with shape `[batch_size, X_dim]`.\n",
    "    y: Tensor with shape `[batch_size, y_dim]`.\n",
    "    hidden_layers: List of positive integers. Defaults to\n",
    "      `[512, 256, 128]`.\n",
    "    bijectors: List of `tfb.Bijector`s. Defaults to an empty\n",
    "      list.\n",
    "  \n",
    "  Returns:\n",
    "    An instance of `tfd.Distribution`.\n",
    "  \"\"\"\n",
    "  if bijectors is None:\n",
    "    bijectors = []\n",
    "  if hidden_layers is None:\n",
    "    hidden_layers = [512, 256, 128]\n",
    "    \n",
    "  with tf.variable_scope(name, reuse=reuse):\n",
    "    # For concatenating, the dtype shall be the same\n",
    "    X = tf.cast(X, dtype)\n",
    "    y = tf.cast(y, dtype)\n",
    "    input_ = tf.concat([X, y], axis=1)\n",
    "    \n",
    "    hidden = input_\n",
    "    for hidden_layer in hidden_layers:\n",
    "      hidden = tf.layers.dense(hidden, hidden_layer,\n",
    "                               activation=tf.nn.relu)\n",
    "    # Outputs in the fiber-bundle space\n",
    "    output = tf.layers.dense(hidden, z_dim * 2, activation=None)\n",
    "    # shape: [batch_size, z_dim]\n",
    "    mu, log_var = tf.split(output, [z_dim, z_dim], axis=1)\n",
    "    \n",
    "    q_z0_Xy = tfd.MultivariateNormalDiag(mu, tf.exp(log_var))\n",
    "    chain = tfb.Chain(bijectors)\n",
    "    q_z_Xy = tfd.TransformedDistribution(distribution=q_z0_Xy,\n",
    "                                         bijector=chain)\n",
    "    return q_z_Xy"
   ]
  },
  {
   "cell_type": "code",
   "execution_count": 3,
   "metadata": {},
   "outputs": [],
   "source": [
    "def get_bijectors(bijector_layers=None, name='bjiectors', reuse=None):\n",
    "  \"\"\"Complexify the inference distribution by extra-bijectors like\n",
    "  normalizing flows.\n",
    "  \n",
    "  Args:\n",
    "    bijector_layers: List of lists of integers. Each sub-list represents\n",
    "      the hidden_layers of the corresponding bijector. Defaults to ten\n",
    "      `[128]` lists, i.e. ten bijectors with each having one hidden layer\n",
    "      with 128 perceptrons.\n",
    "  \n",
    "  Returns:\n",
    "    List of `Bijector`s.\n",
    "  \"\"\"\n",
    "  if bijector_layers is None:\n",
    "    n_bijectors = 10\n",
    "    bijector_layers = [[128] for _ in range(n_bijectors)]\n",
    "    \n",
    "  with tf.variable_scope(name, reuse=reuse):\n",
    "    bijectors = []\n",
    "    for bijector_layer in bijector_layers:\n",
    "      shift_and_log_scale_fn = \\\n",
    "          tfb.masked_autoregressive_default_template(bijector_layer)\n",
    "      # MAP is extremely slow in training. Use IAF instead.\n",
    "      bijector = tfb.Invert(\n",
    "          tfb.MaskedAutoregressiveFlow(shift_and_log_scale_fn))\n",
    "      bijectors.append(bijector)\n",
    "    return bijectors"
   ]
  },
  {
   "cell_type": "code",
   "execution_count": 4,
   "metadata": {},
   "outputs": [],
   "source": [
    "def get_p_X_yz(y, z, X_dim, hidden_layers=None,\n",
    "               dtype='float32', name='p_X_yz', reuse=None):\n",
    "  \"\"\"Returns the distribution of X | Y, Z.\n",
    "  \n",
    "  X | Y, Z ~ Bernoulli( p(Y, Z; theta) ).\n",
    "    \n",
    "  Args:\n",
    "    y: Tensor with shape `[batch_size, y_dim]` and dtype `float32`.\n",
    "    z: Tensor with shape `[batch_size, z_dim]` and dtype `float32`.\n",
    "    X_dim: Positive integer.\n",
    "    hidden_layers: List of positive integers. Defaults to\n",
    "      `[128, 256, 512]`.\n",
    "    \n",
    "  Returns:\n",
    "    An instance of `tfd.Distribution`.\n",
    "  \"\"\"\n",
    "  if hidden_layers is None:\n",
    "    hidden_layers = [128, 256, 512]\n",
    "    \n",
    "  with tf.variable_scope(name, reuse=reuse):\n",
    "    # For concatenating, the dtype shall be the same\n",
    "    y = tf.cast(y, dtype)\n",
    "    z = tf.cast(z, dtype)\n",
    "    input_ = tf.concat([y, z], axis=1)\n",
    "\n",
    "    hidden = input_\n",
    "    for hidden_layer in hidden_layers:\n",
    "      hidden = tf.layers.dense(hidden, hidden_layer,\n",
    "                               activation=tf.nn.relu)\n",
    "    logits = tf.layers.dense(hidden, X_dim, activation=None)  \n",
    "    \n",
    "    p_X_yz = tfd.Independent(tfd.Bernoulli(logits=logits))\n",
    "    return p_X_yz"
   ]
  },
  {
   "cell_type": "code",
   "execution_count": 5,
   "metadata": {},
   "outputs": [],
   "source": [
    "def get_loss_Xy(get_q_z_Xy, get_p_X_yz, p_y=None, p_z=None, reuse=None):\n",
    "  \"\"\"L(X,y) := E_{z ~ q(z|X,y)} [ log_q(z|X,y) - log_p(y) - log_p(z)\n",
    "                                  - log_p(X|y,z) ].\n",
    "                                  \n",
    "  (Herein we assume the prior p(y, z) = p(y) p(z). Even though this is\n",
    "   principly non-essential, I do not how to implement such independence\n",
    "   in TensorFlow.)\n",
    "  \n",
    "  Args:\n",
    "    get_q_z_Xy: Callable that returns an instance of `tfd.Distribution`,\n",
    "      as the q(z|X,y), which takes arguments `X`, `y`, and `reuse`.\n",
    "    get_p_X_yz: Callable that returns an instance of `tfd.Distribution`,\n",
    "      as the p(X|y,z), which takes arguments `y`, `z`, and `reuse`.\n",
    "    p_y: An instance of `tfd.Distribution`, as the p(y). Defaults to\n",
    "      flatten prior.\n",
    "    p_z: An instance of `tfd.Distribution`, as the p(z). Defaults to\n",
    "      flatten prior.\n",
    "    reuse: If reuse the variables in `get_q_z_Xy` and `get_p_X_yz`.\n",
    "    \n",
    "  Returns:\n",
    "    Callable that maps two tensors of the shape `[batch_size, x_dim]`\n",
    "    and `[batch_size, y_dim]`, respectively, to a tensor of the shape\n",
    "    `[batch_size]`.\n",
    "  \"\"\"\n",
    "  \n",
    "  def loss_Xy(X, y, name='loss_Xy'):\n",
    "    \"\"\"\n",
    "    Args:\n",
    "      X: Tensor of the shape `[batch_size, X_dim]`.\n",
    "      y: Tensor of the shape `[batch_size, y_dim]`.\n",
    "\n",
    "    Returns:\n",
    "      A tensor of the shape `[batch_size]`.\n",
    "    \"\"\"\n",
    "    with tf.name_scope(name):\n",
    "      # Get the distribution q(z|X,y)\n",
    "      q_z_Xy = get_q_z_Xy(X, y, reuse=reuse)\n",
    "      \n",
    "      # Get the distribution p(X|y,z)\n",
    "      z_samples = q_z_Xy.sample()\n",
    "      p_X_yz = get_p_X_yz(y, z_samples, reuse=reuse)\n",
    "      \n",
    "      # Compute the tensor of L(X,y)\n",
    "      loss_Xy_tensor = tf.zeros([batch_size])  # initialize.\n",
    "      # E_{z ~ q(z|X,y)} [ log_q(z|X,y) ]\n",
    "      loss_Xy_tensor += q_z_Xy.log_prob(z_samples)\n",
    "      if p_y is not None:\n",
    "        # E_{z ~ q(z|X,y)} [ - log_p(y) ]\n",
    "        loss_Xy_tensor += -1 * p_y.log_prob(y)\n",
    "      if p_z is not None:\n",
    "        # E_{z ~ q(z|X,y)} [ - log_p(z) ]\n",
    "        loss_Xy_tensor += -1 * p_z.log_prob(z_samples)\n",
    "      # E_{z ~ q(z|X,y)} [ - log_p(X|y,z) ]\n",
    "      loss_Xy_tensor += -1 * p_X_yz.log_prob(X)\n",
    "      return loss_Xy_tensor\n",
    "    \n",
    "  return loss_Xy"
   ]
  },
  {
   "cell_type": "code",
   "execution_count": 6,
   "metadata": {},
   "outputs": [],
   "source": [
    "def get_q_y_X(X, name='q_y_X', reuse=None):\n",
    "  \"\"\"Returns the distribution of Y | X.\n",
    "  \n",
    "  Y | X ~ Categorical( pi(X; alpha) ).\n",
    "  \n",
    "  Args:\n",
    "    X: Tensor of the shape `[batch_size, X_dim]`.\n",
    "    \n",
    "  Returns:\n",
    "    An instance of `tfd.Distribution`.\n",
    "  \"\"\"\n",
    "  with tf.variable_scope(name, reuse=reuse):\n",
    "    hidden = tf.layers.dense(X, 512, activation=tf.nn.relu)\n",
    "    hidden = tf.layers.dense(hidden, 256, activation=tf.nn.relu)\n",
    "    hidden = tf.layers.dense(hidden, 128, activation=tf.nn.relu)\n",
    "    # Outputs in the fiber-bundle space\n",
    "    logits = tf.layers.dense(hidden, y_dim, activation=None)\n",
    "    q_y_X = tfd.Independent(tfd.OneHotCategorical(logits=logits))\n",
    "    return q_y_X"
   ]
  },
  {
   "cell_type": "code",
   "execution_count": 7,
   "metadata": {},
   "outputs": [],
   "source": [
    "def get_loss_X(q_y_X, loss_Xy, name='loss_X'):\n",
    "  \"\"\"U(X) := E_{y ~ q(y|X)} [ L(X,y) ] - H(q(y|X)).\n",
    "  \n",
    "  Args:\n",
    "    q_y_X: An instance of `tfd.Distribution` as the q(y|X).\n",
    "    loss_Xy: Callable as the L(X, y) with X given.\n",
    "    \n",
    "  Returns:\n",
    "    Callable that maps a tensor of the shape `[batch_size, X_dim]`\n",
    "    to a tensor of the shape `[batch_size]`.\n",
    "  \"\"\"\n",
    "  def loss_X(X):\n",
    "    \"\"\"\n",
    "    Args:\n",
    "      X: Tensor of the shape `[batch_size, X_dim]`.\n",
    "      \n",
    "    Returns:\n",
    "      A tensor of the shape `[batch_size]`.\n",
    "    \"\"\"\n",
    "    with tf.name_scope(name):\n",
    "      # shape: `[batch_size, y_dim]`\n",
    "      y_samples = q_y_X.sample()\n",
    "      # shape: `[batch_size]`\n",
    "      loss_X_tensor = loss_Xy(X, y_samples) - q_y_X.entropy()\n",
    "      return loss_X_tensor\n",
    "  return loss_X"
   ]
  },
  {
   "cell_type": "code",
   "execution_count": 8,
   "metadata": {
    "code_folding": [
     2
    ]
   },
   "outputs": [],
   "source": [
    "import collections\n",
    "\n",
    "def get_dependent_variables(tensor_or_tensors):\n",
    "  \"\"\"Returns all variables that the tensor `tensor` depends on.\n",
    "  \n",
    "  Folked from: https://stackoverflow.com/a/42861919/1218716\n",
    "  \n",
    "  Args:\n",
    "    tensor_or_tensors: Tensor or a collection of tensors.\n",
    "    \n",
    "  Returns:\n",
    "    List of variables.\n",
    "  \"\"\"\n",
    "  if isinstance(tensor_or_tensors, (list, tuple, set)):  # a collection.\n",
    "    tensors = tensor_or_tensors\n",
    "    dependent_vars = []\n",
    "    for tensor in tensors:\n",
    "      dependent_vars += get_dependent_variables(tensor)\n",
    "    return list(set(dependent_vars))\n",
    "  # When not a collection,\n",
    "  tensor = tensor_or_tensors\n",
    "  \n",
    "  # Initialize\n",
    "  starting_op = tensor.op\n",
    "  dependent_vars = []\n",
    "  queue = collections.deque()\n",
    "  queue.append(starting_op)\n",
    "  op_to_var = {var.op: var for var in tf.trainable_variables()}\n",
    "  visited = set([starting_op])\n",
    "\n",
    "  while queue:\n",
    "    op = queue.popleft()\n",
    "    try:\n",
    "      dependent_vars.append(op_to_var[op])\n",
    "    except KeyError:\n",
    "      # `op` is not a variable, so search its inputs (if any). \n",
    "      for op_input in op.inputs:\n",
    "        if op_input.op not in visited:\n",
    "          queue.append(op_input.op)\n",
    "          visited.add(op_input.op)\n",
    "          \n",
    "  return dependent_vars"
   ]
  },
  {
   "cell_type": "markdown",
   "metadata": {},
   "source": [
    "### Loss"
   ]
  },
  {
   "cell_type": "code",
   "execution_count": 9,
   "metadata": {},
   "outputs": [],
   "source": [
    "batch_size = 128\n",
    "X_dim = 28 * 28\n",
    "y_dim = 10\n",
    "\n",
    "X = tf.placeholder(shape=[batch_size, X_dim], dtype='float32', name='X')\n",
    "y = tf.placeholder(shape=[batch_size, y_dim], dtype='float32', name='y')"
   ]
  },
  {
   "cell_type": "code",
   "execution_count": 10,
   "metadata": {},
   "outputs": [],
   "source": [
    "z_dim = 64\n",
    "\n",
    "p_z = tfd.MultivariateNormalDiag(tf.zeros([z_dim]), name='p_z')"
   ]
  },
  {
   "cell_type": "code",
   "execution_count": 11,
   "metadata": {
    "scrolled": false
   },
   "outputs": [],
   "source": [
    "def _get_q_z_Xy(X, y, reuse):\n",
    "  bijectors = get_bijectors(reuse=reuse)\n",
    "  #bijectors = []  # for comparison\n",
    "  return get_q_z_Xy(X, y, z_dim, bijectors=bijectors, reuse=reuse)\n",
    "\n",
    "def _get_p_X_yz(y, z, reuse):\n",
    "  return get_p_X_yz(y, z, X_dim=X_dim, reuse=reuse)\n",
    "\n",
    "loss_Xy = get_loss_Xy(_get_q_z_Xy, _get_p_X_yz,\n",
    "                      p_z=p_z, reuse=tf.AUTO_REUSE)\n",
    "loss_Xy_tensor = loss_Xy(X, y)\n",
    "loss_Xy_scalar = tf.reduce_mean(loss_Xy_tensor)"
   ]
  },
  {
   "cell_type": "code",
   "execution_count": 12,
   "metadata": {},
   "outputs": [],
   "source": [
    "q_y_X = get_q_y_X(X, reuse=tf.AUTO_REUSE)\n",
    "y_samples = q_y_X.sample()"
   ]
  },
  {
   "cell_type": "code",
   "execution_count": 13,
   "metadata": {},
   "outputs": [],
   "source": [
    "loss_X = get_loss_X(q_y_X, loss_Xy)\n",
    "loss_X_tensor = loss_X(X)\n",
    "loss_X_scalar = tf.reduce_mean(loss_X_tensor)"
   ]
  },
  {
   "cell_type": "markdown",
   "metadata": {},
   "source": [
    "### Training"
   ]
  },
  {
   "cell_type": "code",
   "execution_count": 14,
   "metadata": {},
   "outputs": [],
   "source": [
    "# Minimize L(X,y)\n",
    "optimizer = tf.train.AdamOptimizer(epsilon=1e-3)\n",
    "minimize_loss_Xy = optimizer.minimize(loss_Xy_scalar)"
   ]
  },
  {
   "cell_type": "code",
   "execution_count": 15,
   "metadata": {},
   "outputs": [],
   "source": [
    "# Minimize U(X), while fixing the variables in L(X,y)\n",
    "optimizer = tf.train.AdamOptimizer(epsilon=1e-3, learning_rate=1e-5)\n",
    "loss_X_vars = [_ for _ in get_dependent_variables(loss_X_scalar)\n",
    "               if _ not in get_dependent_variables(loss_Xy_scalar)]\n",
    "minimize_loss_X = optimizer.minimize(loss_X_scalar, var_list=loss_X_vars)"
   ]
  },
  {
   "cell_type": "markdown",
   "metadata": {},
   "source": [
    "### Generating"
   ]
  },
  {
   "cell_type": "code",
   "execution_count": 16,
   "metadata": {},
   "outputs": [],
   "source": [
    "# X | Y,Z\n",
    "z_samples_ph = tf.placeholder(shape=[batch_size, z_dim], dtype='float32')\n",
    "p_X_yz_gen = _get_p_X_yz(y, z_samples_ph, reuse=tf.AUTO_REUSE)\n",
    "X_samples = p_X_yz_gen.sample()"
   ]
  },
  {
   "cell_type": "code",
   "execution_count": 17,
   "metadata": {},
   "outputs": [],
   "source": [
    "def get_image(array):\n",
    "  \"\"\"\n",
    "  Args:\n",
    "    array: Numpy array with shape `[28*28]`.\n",
    "    \n",
    "  Returns:\n",
    "    An image.\n",
    "  \"\"\"\n",
    "  array = 255 * array\n",
    "  array = array.reshape([28, 28])\n",
    "  array = array.astype(np.uint8)\n",
    "  return Image.fromarray(array)"
   ]
  },
  {
   "cell_type": "markdown",
   "metadata": {},
   "source": [
    "### Having Fun"
   ]
  },
  {
   "cell_type": "code",
   "execution_count": 18,
   "metadata": {},
   "outputs": [],
   "source": [
    "sess = tf.Session()\n",
    "sess.run(tf.global_variables_initializer())"
   ]
  },
  {
   "cell_type": "code",
   "execution_count": 19,
   "metadata": {},
   "outputs": [
    {
     "name": "stdout",
     "output_type": "stream",
     "text": [
      "WARNING:tensorflow:From <ipython-input-19-20281547e951>:1: read_data_sets (from tensorflow.contrib.learn.python.learn.datasets.mnist) is deprecated and will be removed in a future version.\n",
      "Instructions for updating:\n",
      "Please use alternatives such as official/mnist/dataset.py from tensorflow/models.\n",
      "WARNING:tensorflow:From /home/apps/anaconda3/lib/python3.6/site-packages/tensorflow/contrib/learn/python/learn/datasets/mnist.py:260: maybe_download (from tensorflow.contrib.learn.python.learn.datasets.base) is deprecated and will be removed in a future version.\n",
      "Instructions for updating:\n",
      "Please write your own downloading logic.\n",
      "WARNING:tensorflow:From /home/apps/anaconda3/lib/python3.6/site-packages/tensorflow/contrib/learn/python/learn/datasets/mnist.py:262: extract_images (from tensorflow.contrib.learn.python.learn.datasets.mnist) is deprecated and will be removed in a future version.\n",
      "Instructions for updating:\n",
      "Please use tf.data to implement this functionality.\n",
      "Extracting dat/MNIST/train-images-idx3-ubyte.gz\n",
      "WARNING:tensorflow:From /home/apps/anaconda3/lib/python3.6/site-packages/tensorflow/contrib/learn/python/learn/datasets/mnist.py:267: extract_labels (from tensorflow.contrib.learn.python.learn.datasets.mnist) is deprecated and will be removed in a future version.\n",
      "Instructions for updating:\n",
      "Please use tf.data to implement this functionality.\n",
      "Extracting dat/MNIST/train-labels-idx1-ubyte.gz\n",
      "WARNING:tensorflow:From /home/apps/anaconda3/lib/python3.6/site-packages/tensorflow/contrib/learn/python/learn/datasets/mnist.py:110: dense_to_one_hot (from tensorflow.contrib.learn.python.learn.datasets.mnist) is deprecated and will be removed in a future version.\n",
      "Instructions for updating:\n",
      "Please use tf.one_hot on tensors.\n",
      "Extracting dat/MNIST/t10k-images-idx3-ubyte.gz\n",
      "Extracting dat/MNIST/t10k-labels-idx1-ubyte.gz\n",
      "WARNING:tensorflow:From /home/apps/anaconda3/lib/python3.6/site-packages/tensorflow/contrib/learn/python/learn/datasets/mnist.py:290: DataSet.__init__ (from tensorflow.contrib.learn.python.learn.datasets.mnist) is deprecated and will be removed in a future version.\n",
      "Instructions for updating:\n",
      "Please use alternatives such as official/mnist/dataset.py from tensorflow/models.\n"
     ]
    }
   ],
   "source": [
    "mnist = input_data.read_data_sets('dat/MNIST', one_hot=True)\n",
    "\n",
    "def get_X_y_batch(source='train'):\n",
    "    if source == 'train':\n",
    "      data = mnist.train\n",
    "    elif source == 'test':\n",
    "      data = mnist.test\n",
    "    else:\n",
    "      raise ValueError('Argument source can either be \"train\" or \"test\".')\n",
    "    X_batch, y_batch = data.next_batch(batch_size)\n",
    "    # Since X | Y, Z ~ Bernoulli, the observed value of X shall\n",
    "    # either be 0 or 1,\n",
    "    X_batch = np.where(X_batch >= 0.5, np.ones_like(X_batch),\n",
    "                       np.zeros_like(X_batch))\n",
    "    return X_batch, y_batch"
   ]
  },
  {
   "cell_type": "markdown",
   "metadata": {},
   "source": [
    "#### Minimizing $L(x, y)$ over batches"
   ]
  },
  {
   "cell_type": "code",
   "execution_count": 20,
   "metadata": {
    "scrolled": false
   },
   "outputs": [
    {
     "name": "stderr",
     "output_type": "stream",
     "text": [
      "100%|██████████| 100000/100000 [14:52<00:00, 112.02it/s]\n"
     ]
    },
    {
     "name": "stdout",
     "output_type": "stream",
     "text": [
      "Mean L(X,y): 71.0102\n",
      "Final L(X,y): 65.5911\n"
     ]
    },
    {
     "data": {
      "image/png": "[encoded data removed]",
      "text/plain": [
       "<Figure size 432x288 with 1 Axes>"
      ]
     },
     "metadata": {},
     "output_type": "display_data"
    },
    {
     "data": {
      "image/png": "[encoded data removed]",
      "text/plain": [
       "<Figure size 432x288 with 1 Axes>"
      ]
     },
     "metadata": {},
     "output_type": "display_data"
    }
   ],
   "source": [
    "# Training by minimizing `loss_Xy_scalar`\n",
    "loss_Xy_vals = []\n",
    "smeared_loss_Xy_vals = []\n",
    "smear_steps = 300\n",
    "for i in tqdm(range(100000)):\n",
    "  X_batch, y_batch = get_X_y_batch()\n",
    "  _, loss_Xy_val = sess.run([minimize_loss_Xy, loss_Xy_scalar],\n",
    "                            feed_dict={X: X_batch, y: y_batch})\n",
    "  if np.isnan(loss_Xy_val):\n",
    "    raise ValueError('Loss has been NaN.')\n",
    "  loss_Xy_vals.append(loss_Xy_val)\n",
    "  smeared_loss_Xy_vals.append(np.mean(loss_Xy_vals[-smear_steps:]))\n",
    "print('Mean L(X,y):', np.mean(loss_Xy_vals))\n",
    "print('Final L(X,y):', smeared_loss_Xy_vals[-1])\n",
    "\n",
    "# Visualize the training loss\n",
    "plt.plot(smeared_loss_Xy_vals)\n",
    "plt.xlabel('steps')\n",
    "plt.ylabel('L(X,y) (smeared)')\n",
    "plt.show()\n",
    "\n",
    "# Visualize the training loss in the last several steps\n",
    "last_steps = 20000\n",
    "plt.plot(smeared_loss_Xy_vals[-last_steps:])\n",
    "plt.xlabel('last steps')\n",
    "plt.ylabel('L(X,y) (smeared)')\n",
    "plt.show()"
   ]
  },
  {
   "cell_type": "code",
   "execution_count": 30,
   "metadata": {},
   "outputs": [
    {
     "name": "stdout",
     "output_type": "stream",
     "text": [
      "Label: 0\n",
      "Gnerated:\n"
     ]
    },
    {
     "data": {
      "image/png": "[encoded data removed]",
      "text/plain": [
       "<PIL.Image.Image image mode=L size=28x28 at 0x7FB82B725668>"
      ]
     },
     "metadata": {},
     "output_type": "display_data"
    },
    {
     "name": "stdout",
     "output_type": "stream",
     "text": [
      "\n",
      "Label: 1\n",
      "Gnerated:\n"
     ]
    },
    {
     "data": {
      "image/png": "[encoded data removed]",
      "text/plain": [
       "<PIL.Image.Image image mode=L size=28x28 at 0x7FB82B7255C0>"
      ]
     },
     "metadata": {},
     "output_type": "display_data"
    },
    {
     "name": "stdout",
     "output_type": "stream",
     "text": [
      "\n",
      "Label: 8\n",
      "Gnerated:\n"
     ]
    },
    {
     "data": {
      "image/png": "[encoded data removed]",
      "text/plain": [
       "<PIL.Image.Image image mode=L size=28x28 at 0x7FB82B7256A0>"
      ]
     },
     "metadata": {},
     "output_type": "display_data"
    },
    {
     "name": "stdout",
     "output_type": "stream",
     "text": [
      "\n",
      "Label: 1\n",
      "Gnerated:\n"
     ]
    },
    {
     "data": {
      "image/png": "[encoded data removed]",
      "text/plain": [
       "<PIL.Image.Image image mode=L size=28x28 at 0x7FB7A41CAA90>"
      ]
     },
     "metadata": {},
     "output_type": "display_data"
    },
    {
     "name": "stdout",
     "output_type": "stream",
     "text": [
      "\n",
      "Label: 3\n",
      "Gnerated:\n"
     ]
    },
    {
     "data": {
      "image/png": "[encoded data removed]",
      "text/plain": [
       "<PIL.Image.Image image mode=L size=28x28 at 0x7FB82B7255C0>"
      ]
     },
     "metadata": {},
     "output_type": "display_data"
    },
    {
     "name": "stdout",
     "output_type": "stream",
     "text": [
      "\n"
     ]
    }
   ],
   "source": [
    "_, y_batch = get_X_y_batch()\n",
    "\n",
    "# Generate X\n",
    "z_samples_val = np.random.normal(size=[batch_size, z_dim])\n",
    "X_sample_vals = sess.run(X_samples,\n",
    "    feed_dict={y: y_batch, z_samples_ph: z_samples_val})\n",
    "\n",
    "# Display the results\n",
    "n_display = 5\n",
    "for i in range(n_display):\n",
    "  print('Label:', np.argmax(y_batch[i]))\n",
    "  print('Gnerated:')\n",
    "  display(get_image(X_sample_vals[i]))\n",
    "  print()"
   ]
  },
  {
   "cell_type": "markdown",
   "metadata": {},
   "source": [
    "#### Minimizing $U(x)$ over batches"
   ]
  },
  {
   "cell_type": "code",
   "execution_count": 22,
   "metadata": {},
   "outputs": [
    {
     "data": {
      "text/plain": [
       "\"\\n# Training by minimizing `loss_X_scalar`\\nloss_X_vals = []\\nsmeared_loss_X_vals = []\\nfor i in tqdm(range(100000)):\\n  X_batch, y_batch = get_X_y_batch()\\n  _, loss_X_val = sess.run([minimize_loss_X, loss_X_scalar],\\n                            feed_dict={X: X_batch})\\n  if np.isnan(loss_X_val):\\n    raise ValueError('Loss has been NaN.')\\n  loss_X_vals.append(loss_X_val)\\n  smeared_loss_X_vals.append(np.mean(loss_X_vals[-smear_steps:]))\\nprint('Mean U(X):', np.mean(loss_X_vals))\\nprint('Final U(X):', smeared_loss_X_vals[-1])\\n\\n# Visualize the training loss\\nplt.plot(smeared_loss_X_vals)\\nplt.xlabel('steps')\\nplt.ylabel('U(X) (smeared)')\\nplt.show()\\n\\n# Visualize the training loss in the last several steps\\nplt.plot(smeared_loss_X_vals[-last_steps:])\\nplt.xlabel('last steps')\\nplt.ylabel('U(X) (smeared)')\\nplt.show()\\n\""
      ]
     },
     "execution_count": 22,
     "metadata": {},
     "output_type": "execute_result"
    }
   ],
   "source": [
    "'''\n",
    "# Training by minimizing `loss_X_scalar`\n",
    "loss_X_vals = []\n",
    "smeared_loss_X_vals = []\n",
    "for i in tqdm(range(100000)):\n",
    "  X_batch, y_batch = get_X_y_batch()\n",
    "  _, loss_X_val = sess.run([minimize_loss_X, loss_X_scalar],\n",
    "                            feed_dict={X: X_batch})\n",
    "  if np.isnan(loss_X_val):\n",
    "    raise ValueError('Loss has been NaN.')\n",
    "  loss_X_vals.append(loss_X_val)\n",
    "  smeared_loss_X_vals.append(np.mean(loss_X_vals[-smear_steps:]))\n",
    "print('Mean U(X):', np.mean(loss_X_vals))\n",
    "print('Final U(X):', smeared_loss_X_vals[-1])\n",
    "\n",
    "# Visualize the training loss\n",
    "plt.plot(smeared_loss_X_vals)\n",
    "plt.xlabel('steps')\n",
    "plt.ylabel('U(X) (smeared)')\n",
    "plt.show()\n",
    "\n",
    "# Visualize the training loss in the last several steps\n",
    "plt.plot(smeared_loss_X_vals[-last_steps:])\n",
    "plt.xlabel('last steps')\n",
    "plt.ylabel('U(X) (smeared)')\n",
    "plt.show()\n",
    "'''"
   ]
  },
  {
   "cell_type": "code",
   "execution_count": 23,
   "metadata": {},
   "outputs": [
    {
     "data": {
      "text/plain": [
       "\"\\nX_batch, y_batch = get_X_y_batch()\\n\\n# Predict y\\ny_sample_vals = sess.run(y_samples, feed_dict={X: X_batch})\\n\\n# Display the results\\nn_display = 5\\nfor i in range(n_display):\\n  print('Label:', np.argmax(y_batch[i]))\\n  print('Predicted:', np.argmax(y_sample_vals[i]))\\n  print('Original:')\\n  display(get_image(X_batch[i]))\\n\""
      ]
     },
     "execution_count": 23,
     "metadata": {},
     "output_type": "execute_result"
    }
   ],
   "source": [
    "'''\n",
    "X_batch, y_batch = get_X_y_batch()\n",
    "\n",
    "# Predict y\n",
    "y_sample_vals = sess.run(y_samples, feed_dict={X: X_batch})\n",
    "\n",
    "# Display the results\n",
    "n_display = 5\n",
    "for i in range(n_display):\n",
    "  print('Label:', np.argmax(y_batch[i]))\n",
    "  print('Predicted:', np.argmax(y_sample_vals[i]))\n",
    "  print('Original:')\n",
    "  display(get_image(X_batch[i]))\n",
    "'''"
   ]
  },
  {
   "cell_type": "markdown",
   "metadata": {},
   "source": [
    "* We find that the minimization of $U(x)$ is always non-effective. Why?"
   ]
  },
  {
   "cell_type": "markdown",
   "metadata": {},
   "source": [
    "### Effect of Normalizing-flow"
   ]
  },
  {
   "cell_type": "markdown",
   "metadata": {},
   "source": [
    "* While not employing normalizing flow, 100000 iterations give the final L(X,y) about 70.0.\n",
    "* With 10 normalizing flows, 100000 iterations give the L(X,y) loss 65.5 (improved 4.5)."
   ]
  },
  {
   "cell_type": "code",
   "execution_count": 24,
   "metadata": {},
   "outputs": [
    {
     "data": {
      "text/plain": [
       "54.598150033144236"
      ]
     },
     "execution_count": 24,
     "metadata": {},
     "output_type": "execute_result"
    }
   ],
   "source": [
    "np.exp(4)"
   ]
  },
  {
   "cell_type": "markdown",
   "metadata": {},
   "source": [
    "### Discrimination"
   ]
  },
  {
   "cell_type": "markdown",
   "metadata": {},
   "source": [
    "The training by minimizing $L(x, y)$ over data-batches gains the approximation\n",
    "\n",
    "\\begin{equation}\n",
    "  \\ln p(x, y) = - L(x, y).\n",
    "\\end{equation}\n",
    "\n",
    "Thus,\n",
    "\n",
    "\\begin{align}\n",
    "  \\ln p(y \\mid x) & = \\ln p(x, y) - \\ln \\sum_{\\forall y} p(x, y) \\\\\n",
    "                  & \\approx -L(x, y) - \\ln \\sum_{\\forall y} \\exp \\left( -L(x, y) \\right).\n",
    "\\end{align}\n",
    "\n",
    "That is, given $x$, the most probable value of $y$ is the one that minimizes the $L(x, y)$."
   ]
  },
  {
   "cell_type": "code",
   "execution_count": 25,
   "metadata": {},
   "outputs": [],
   "source": [
    "def predict(get_loss_Xy_val, X_batch, y_dim=y_dim):\n",
    "  \"\"\"Returns the log-probability of discrimination for each element\n",
    "  in the X's batch `X_batch`.\n",
    "  \n",
    "  Args:\n",
    "    get_loss_Xy_val: Callable that maps two arraies of the shapes\n",
    "      `[batch_size, X_dim]` and `[batch_size, y_dim]`, respectively,\n",
    "      to an array of the shape `[batch_size]`.\n",
    "    X: Array of the shape `[batch_size, X_dim]`.\n",
    "    \n",
    "  Returns:\n",
    "    An array of the shape `[batch_size, y_dim]`.\n",
    "  \"\"\"\n",
    "  batch_size, _ = X_batch.shape\n",
    "  \n",
    "  loss_Xy_vals = []\n",
    "  for i in range(y_dim):\n",
    "    y_batch = np.zeros([batch_size, y_dim])\n",
    "    y_batch[:,i] = np.ones([batch_size])\n",
    "    loss_Xy_vals.append(get_loss_Xy_val(X_batch, y_batch))\n",
    "  # shape: `[batch_size, y_dim]`\n",
    "  log_prob_Xy = -np.stack(loss_Xy_vals, axis=1)\n",
    "  # shape: `[batch_size]`\n",
    "  log_prob_X = logsumexp(log_prob_Xy, axis=1)\n",
    "  # shape: `[batch_size, 1]`\n",
    "  log_prob_X = np.expand_dims(log_prob_X, axis=1)\n",
    "  # shape: `[batch_size, y_dim]`\n",
    "  log_probs = log_prob_Xy - log_prob_X\n",
    "  return log_probs"
   ]
  },
  {
   "cell_type": "code",
   "execution_count": 26,
   "metadata": {},
   "outputs": [],
   "source": [
    "def get_loss_Xy_val(X_batch, y_batch):\n",
    "  return sess.run(loss_Xy_tensor, {X: X_batch, y: y_batch})"
   ]
  },
  {
   "cell_type": "code",
   "execution_count": 27,
   "metadata": {
    "scrolled": false
   },
   "outputs": [
    {
     "data": {
      "image/png": "[encoded data removed]",
      "text/plain": [
       "<PIL.Image.Image image mode=L size=28x28 at 0x7FB7A41CCB38>"
      ]
     },
     "metadata": {},
     "output_type": "display_data"
    },
    {
     "name": "stdout",
     "output_type": "stream",
     "text": [
      "Difference: 2 1\n",
      "Probabilities: 0.000, 1.000, 0.000, 0.000, 0.000, 0.000, 0.000, 0.000, 0.000, 0.000\n",
      "\n"
     ]
    },
    {
     "data": {
      "image/png": "[encoded data removed]",
      "text/plain": [
       "<PIL.Image.Image image mode=L size=28x28 at 0x7FB7A41CCB70>"
      ]
     },
     "metadata": {},
     "output_type": "display_data"
    },
    {
     "name": "stdout",
     "output_type": "stream",
     "text": [
      "Difference: 8 9\n",
      "Probabilities: 0.000, 0.000, 0.000, 0.000, 0.000, 0.000, 0.000, 0.000, 0.000, 1.000\n",
      "\n"
     ]
    },
    {
     "data": {
      "image/png": "[encoded data removed]",
      "text/plain": [
       "<PIL.Image.Image image mode=L size=28x28 at 0x7FB7A41CCC88>"
      ]
     },
     "metadata": {},
     "output_type": "display_data"
    },
    {
     "name": "stdout",
     "output_type": "stream",
     "text": [
      "Difference: 8 5\n",
      "Probabilities: 0.000, 0.000, 0.000, 0.000, 0.000, 1.000, 0.000, 0.000, 0.000, 0.000\n",
      "\n"
     ]
    },
    {
     "data": {
      "image/png": "[encoded data removed]",
      "text/plain": [
       "<PIL.Image.Image image mode=L size=28x28 at 0x7FB7A41CCD68>"
      ]
     },
     "metadata": {},
     "output_type": "display_data"
    },
    {
     "name": "stdout",
     "output_type": "stream",
     "text": [
      "Difference: 4 9\n",
      "Probabilities: 0.000, 0.000, 0.000, 0.000, 0.030, 0.000, 0.000, 0.016, 0.000, 0.954\n",
      "\n",
      "Accuracy: 0.96875\n"
     ]
    }
   ],
   "source": [
    "X_batch, y_batch = get_X_y_batch(source='test')\n",
    "predicted = predict(get_loss_Xy_val, X_batch)\n",
    "\n",
    "count = 0\n",
    "for i, X_val in enumerate(X_batch):\n",
    "  y_val = np.argmax(y_batch, axis=1)[i]\n",
    "  p_val = np.argmax(predicted, axis=1)[i]\n",
    "                 \n",
    "  if y_val != p_val:\n",
    "    display(get_image(X_val))\n",
    "    print('Difference:', y_val, p_val)\n",
    "    print('Probabilities:', ', '.join(['{0:.3f}'.format(np.exp(_))\n",
    "                                       for _ in predicted[i]]))\n",
    "    print()\n",
    "    count += 1\n",
    "print('Accuracy:', 1 - count / len(y_batch))"
   ]
  },
  {
   "cell_type": "markdown",
   "metadata": {},
   "source": [
    "* Almost the same."
   ]
  },
  {
   "cell_type": "code",
   "execution_count": null,
   "metadata": {},
   "outputs": [],
   "source": []
  }
 ],
 "metadata": {
  "kernelspec": {
   "display_name": "Python 3",
   "language": "python",
   "name": "python3"
  },
  "language_info": {
   "codemirror_mode": {
    "name": "ipython",
    "version": 3
   },
   "file_extension": ".py",
   "mimetype": "text/x-python",
   "name": "python",
   "nbconvert_exporter": "python",
   "pygments_lexer": "ipython3",
   "version": "3.6.0"
  },
  "notify_time": "30",
  "toc": {
   "base_numbering": 1,
   "nav_menu": {},
   "number_sections": true,
   "sideBar": true,
   "skip_h1_title": false,
   "title_cell": "Table of Contents",
   "title_sidebar": "Contents",
   "toc_cell": false,
   "toc_position": {},
   "toc_section_display": true,
   "toc_window_display": false
  }
 },
 "nbformat": 4,
 "nbformat_minor": 2
}
