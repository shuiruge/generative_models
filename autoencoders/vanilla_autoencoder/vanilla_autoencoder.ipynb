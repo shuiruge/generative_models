{
 "cells": [
  {
   "cell_type": "markdown",
   "metadata": {},
   "source": [
    "## The Basic Idea of Machine Learning"
   ]
  },
  {
   "cell_type": "markdown",
   "metadata": {},
   "source": [
    "## Auto-encoder"
   ]
  },
  {
   "cell_type": "markdown",
   "metadata": {},
   "source": [
    "#### Reference:\n",
    "  1. [Wikipedia](https://en.wikipedia.org/wiki/Autoencoder)."
   ]
  },
  {
   "cell_type": "markdown",
   "metadata": {},
   "source": [
    "## Implementation"
   ]
  },
  {
   "cell_type": "code",
   "execution_count": 1,
   "metadata": {},
   "outputs": [],
   "source": [
    "%matplotlib inline\n",
    "\n",
    "import matplotlib.pyplot as plt\n",
    "from tqdm import tqdm\n",
    "from PIL import Image\n",
    "import numpy as np\n",
    "import tensorflow as tf\n",
    "from tensorflow.examples.tutorials.mnist import input_data"
   ]
  },
  {
   "cell_type": "code",
   "execution_count": 2,
   "metadata": {},
   "outputs": [
    {
     "name": "stdout",
     "output_type": "stream",
     "text": [
      "WARNING:tensorflow:From <ipython-input-2-86306f8048e8>:4: read_data_sets (from tensorflow.contrib.learn.python.learn.datasets.mnist) is deprecated and will be removed in a future version.\n",
      "Instructions for updating:\n",
      "Please use alternatives such as official/mnist/dataset.py from tensorflow/models.\n",
      "WARNING:tensorflow:From /Users/shuiruge/anaconda/lib/python3.6/site-packages/tensorflow/contrib/learn/python/learn/datasets/mnist.py:260: maybe_download (from tensorflow.contrib.learn.python.learn.datasets.base) is deprecated and will be removed in a future version.\n",
      "Instructions for updating:\n",
      "Please write your own downloading logic.\n",
      "WARNING:tensorflow:From /Users/shuiruge/anaconda/lib/python3.6/site-packages/tensorflow/contrib/learn/python/learn/datasets/mnist.py:262: extract_images (from tensorflow.contrib.learn.python.learn.datasets.mnist) is deprecated and will be removed in a future version.\n",
      "Instructions for updating:\n",
      "Please use tf.data to implement this functionality.\n",
      "Extracting ../../dat/MNIST/train-images-idx3-ubyte.gz\n",
      "WARNING:tensorflow:From /Users/shuiruge/anaconda/lib/python3.6/site-packages/tensorflow/contrib/learn/python/learn/datasets/mnist.py:267: extract_labels (from tensorflow.contrib.learn.python.learn.datasets.mnist) is deprecated and will be removed in a future version.\n",
      "Instructions for updating:\n",
      "Please use tf.data to implement this functionality.\n",
      "Extracting ../../dat/MNIST/train-labels-idx1-ubyte.gz\n",
      "WARNING:tensorflow:From /Users/shuiruge/anaconda/lib/python3.6/site-packages/tensorflow/contrib/learn/python/learn/datasets/mnist.py:110: dense_to_one_hot (from tensorflow.contrib.learn.python.learn.datasets.mnist) is deprecated and will be removed in a future version.\n",
      "Instructions for updating:\n",
      "Please use tf.one_hot on tensors.\n",
      "Extracting ../../dat/MNIST/t10k-images-idx3-ubyte.gz\n",
      "Extracting ../../dat/MNIST/t10k-labels-idx1-ubyte.gz\n",
      "WARNING:tensorflow:From /Users/shuiruge/anaconda/lib/python3.6/site-packages/tensorflow/contrib/learn/python/learn/datasets/mnist.py:290: DataSet.__init__ (from tensorflow.contrib.learn.python.learn.datasets.mnist) is deprecated and will be removed in a future version.\n",
      "Instructions for updating:\n",
      "Please use alternatives such as official/mnist/dataset.py from tensorflow/models.\n"
     ]
    }
   ],
   "source": [
    "data_path = '../../dat/MNIST/'\n",
    "mnist = input_data.read_data_sets(\n",
    "    data_path, one_hot=True,\n",
    "    source_url='http://yann.lecun.com/exdb/mnist/')"
   ]
  },
  {
   "cell_type": "code",
   "execution_count": 3,
   "metadata": {},
   "outputs": [],
   "source": [
    "def get_encoder(latent_dim, hidden_layers):\n",
    "    \n",
    "  def encoder(x, name='encoder', reuse=None):\n",
    "    with tf.variable_scope(name, reuse=reuse):\n",
    "      hidden = x\n",
    "      for hidden_layer in hidden_layers:\n",
    "        hidden = tf.layers.dense(hidden, hidden_layer,\n",
    "                                 activation=tf.nn.relu)\n",
    "      latent = tf.layers.dense(hidden, latent_dim, activation=None)\n",
    "      return latent\n",
    "    \n",
    "  return encoder"
   ]
  },
  {
   "cell_type": "code",
   "execution_count": 4,
   "metadata": {},
   "outputs": [],
   "source": [
    "def get_decoder(observable_dim, hidden_layers):\n",
    "    \n",
    "  def decoder(latent, name='decoder', reuse=None):\n",
    "    with tf.variable_scope(name, reuse=reuse):\n",
    "      hidden = latent\n",
    "      for hidden_layer in hidden_layers:\n",
    "        hidden = tf.layers.dense(hidden, hidden_layer,\n",
    "                                 activation=tf.nn.relu)\n",
    "      reconstructed = tf.layers.dense(hidden, observable_dim,\n",
    "                                      activation=tf.nn.sigmoid)\n",
    "      return reconstructed\n",
    "    \n",
    "  return decoder"
   ]
  },
  {
   "cell_type": "code",
   "execution_count": 5,
   "metadata": {},
   "outputs": [],
   "source": [
    "def get_loss(observable, encoder, decoder, regularizer=None, reuse=None):\n",
    "  if regularizer is None:\n",
    "    regularizer = lambda latent: 0.0\n",
    "    \n",
    "  with tf.name_scope('loss'):\n",
    "    # shape: [batch_size, latent_dim]\n",
    "    latent = encoder(observable, reuse=reuse)\n",
    "    # shape: [batch_size, observable_dim]\n",
    "    reconstructed = decoder(latent, reuse=reuse)\n",
    "    # shape: [batch_size]\n",
    "    squared_errors = tf.reduce_sum(\n",
    "        (reconstructed - observable) ** 2,\n",
    "        axis=1)\n",
    "    mean_square_error = tf.reduce_mean(squared_errors)\n",
    "    return mean_square_error + regularizer(latent)"
   ]
  },
  {
   "cell_type": "code",
   "execution_count": 6,
   "metadata": {},
   "outputs": [],
   "source": [
    "latent_dim = 32\n",
    "encoder = get_encoder(latent_dim=latent_dim,\n",
    "                      hidden_layers=[512, 512])\n",
    "decoder = get_decoder(observable_dim=28*28,\n",
    "                      hidden_layers=[512, 512])\n",
    "observable = tf.placeholder(shape=[None, 28*28],\n",
    "                            dtype='float32',\n",
    "                            name='observable')\n",
    "latent_samples = tf.placeholder(shape=[None, latent_dim],\n",
    "                                dtype='float32',\n",
    "                                name='latent_samples')\n",
    "generated = decoder(latent_samples, reuse=tf.AUTO_REUSE)"
   ]
  },
  {
   "cell_type": "code",
   "execution_count": 7,
   "metadata": {},
   "outputs": [],
   "source": [
    "def regularizer(latent, name='regularizer'):\n",
    "  with tf.name_scope(name):\n",
    "    distances = tf.reduce_sum(latent ** 2, axis=1)\n",
    "    return tf.reduce_mean(distances)"
   ]
  },
  {
   "cell_type": "code",
   "execution_count": 8,
   "metadata": {
    "scrolled": false
   },
   "outputs": [],
   "source": [
    "loss = get_loss(observable, encoder, decoder,\n",
    "                regularizer=regularizer,\n",
    "                reuse=tf.AUTO_REUSE)"
   ]
  },
  {
   "cell_type": "code",
   "execution_count": 9,
   "metadata": {},
   "outputs": [],
   "source": [
    "train_op = tf.train.AdamOptimizer().minimize(loss)"
   ]
  },
  {
   "cell_type": "code",
   "execution_count": 10,
   "metadata": {},
   "outputs": [],
   "source": [
    "sess = tf.Session()\n",
    "sess.run(tf.global_variables_initializer())"
   ]
  },
  {
   "cell_type": "code",
   "execution_count": 11,
   "metadata": {},
   "outputs": [
    {
     "name": "stderr",
     "output_type": "stream",
     "text": [
      "100%|██████████| 5000/5000 [02:47<00:00, 29.94it/s]\n"
     ]
    }
   ],
   "source": [
    "loss_vals = []\n",
    "for i in tqdm(range(5000)):\n",
    "  X, y = mnist.train.next_batch(batch_size=128)\n",
    "  _, loss_val = sess.run([train_op, loss], {observable: X})\n",
    "  loss_vals.append(loss_val)"
   ]
  },
  {
   "cell_type": "code",
   "execution_count": 12,
   "metadata": {},
   "outputs": [
    {
     "data": {
      "image/png": "[encoded data removed]",
      "text/plain": [
       "<matplotlib.figure.Figure at 0x11d5d3ac8>"
      ]
     },
     "metadata": {},
     "output_type": "display_data"
    }
   ],
   "source": [
    "plt.plot(loss_vals)\n",
    "plt.xlabel('steps')\n",
    "plt.ylabel('loss')\n",
    "plt.show()"
   ]
  },
  {
   "cell_type": "code",
   "execution_count": 56,
   "metadata": {},
   "outputs": [],
   "source": [
    "def get_image(array):\n",
    "    array = np.where(array > 0.5,\n",
    "                     np.ones_like(array),\n",
    "                     np.zeros_like(array))\n",
    "    array = array * 255\n",
    "    array = array.reshape([28, 28]).astype('uint8')\n",
    "    image = Image.fromarray(array)\n",
    "    return image"
   ]
  },
  {
   "cell_type": "code",
   "execution_count": 61,
   "metadata": {},
   "outputs": [],
   "source": [
    "latent_sample_vals = np.random.normal(size=[1, latent_dim])\n",
    "generated_vals = sess.run(generated, {latent_samples: latent_sample_vals})\n",
    "image = get_image(generated_vals[0])\n",
    "image.show()"
   ]
  },
  {
   "cell_type": "code",
   "execution_count": null,
   "metadata": {},
   "outputs": [],
   "source": []
  }
 ],
 "metadata": {
  "kernelspec": {
   "display_name": "Python 3",
   "language": "python",
   "name": "python3"
  },
  "language_info": {
   "codemirror_mode": {
    "name": "ipython",
    "version": 3
   },
   "file_extension": ".py",
   "mimetype": "text/x-python",
   "name": "python",
   "nbconvert_exporter": "python",
   "pygments_lexer": "ipython3",
   "version": "3.6.0"
  }
 },
 "nbformat": 4,
 "nbformat_minor": 2
}
