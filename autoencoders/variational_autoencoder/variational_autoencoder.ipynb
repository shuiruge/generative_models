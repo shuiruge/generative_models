{
 "cells": [
  {
   "cell_type": "markdown",
   "metadata": {},
   "source": [
    "* This notebook implements the VAE model in [Kingma (2013)](https://arxiv.org/abs/1312.6114)."
   ]
  },
  {
   "cell_type": "markdown",
   "metadata": {},
   "source": [
    "## Variational Auto-encoder"
   ]
  },
  {
   "cell_type": "markdown",
   "metadata": {},
   "source": [
    "### Motivation"
   ]
  },
  {
   "cell_type": "markdown",
   "metadata": {},
   "source": [
    "In addition to the values of observable and of its latent variable, we are to encode the uncertainties of them also."
   ]
  },
  {
   "cell_type": "markdown",
   "metadata": {},
   "source": [
    "### Definitions"
   ]
  },
  {
   "cell_type": "markdown",
   "metadata": {},
   "source": [
    "* Let $X$ be the observed random variable and $Z$ the latent random variable. Let\n",
    "\n",
    "  \\begin{equation}\n",
    "    Z \\sim P_{Z}\n",
    "  \\end{equation}\n",
    "\n",
    "  be some given prior.\n",
    "  \n",
    "* And let\n",
    "\n",
    "  \\begin{equation}\n",
    "    X \\mid Z \\sim P_{X \\mid Z; \\phi}\n",
    "  \\end{equation}\n",
    "\n",
    "  for some distribution in a family parameterized by $\\phi$."
   ]
  },
  {
   "cell_type": "markdown",
   "metadata": {},
   "source": [
    "For instance, if $X \\in \\mathbb{R}$, it is general to assume a multivariate Gaussian distribution, diagonalized or semi-diagonalized, then we have\n",
    "\n",
    "\\begin{equation}\n",
    "  X \\mid Z \\sim \\mathcal{N} \\left( \\mu(Z; \\phi_1), \\sigma(Z; \\phi_2) \\right),\n",
    "\\end{equation}\n",
    "\n",
    "for some universality functions $\\mu(\\cdot; \\phi_2)$ and $\\sigma(\\cdot; \\phi_2)$ and $\\phi := (\\phi_1, \\phi_2)$."
   ]
  },
  {
   "cell_type": "markdown",
   "metadata": {},
   "source": [
    "### Variational Inference"
   ]
  },
  {
   "cell_type": "markdown",
   "metadata": {},
   "source": [
    "Utilization of the dataset of $x$ forces us to employ some distribution $q(z \\mid x)$ (to be determined) to fit $p(z \\mid x)$ (and if the dataset is of $z$, then we are forced to $p(x \\mid z)$ instead), then we have the bound by KL-divergence\n",
    "\n",
    "\\begin{equation}\n",
    "  \\text{KL} \\left( q(z \\mid x) \\| p(z \\mid x) \\right)\n",
    "  = \\text{KL} \\left( q(z \\mid x) \\| p(x, z) \\right) + \\ln p(x)\n",
    "  \\geq 0.\n",
    "\\end{equation}\n",
    "\n",
    "Thus, a loss\n",
    "\n",
    "\\begin{align}\n",
    "  L(x)\n",
    "  & := \\text{KL} \\left( q(z \\mid x) \\| p(y, z) \\right) \\\\\n",
    "  & = \\mathbb{E}_{z \\sim q(z \\mid x)} \\left[\n",
    "         \\ln q(z \\mid x) - \\ln p(x \\mid z) - \\ln p(z) \\right] \\\\\n",
    "  & \\geq - \\ln p(x).\n",
    "\\end{align}\n",
    "\n",
    "The equality can be reached if and only if $q(z \\mid x) = p(z \\mid x)$."
   ]
  },
  {
   "cell_type": "markdown",
   "metadata": {},
   "source": [
    "### Relation with Autoencoder"
   ]
  },
  {
   "cell_type": "markdown",
   "metadata": {},
   "source": [
    "* The $\\mathbb{E}_{z \\sim q(z \\mid x)} \\left[ - \\ln p(x \\mid z) \\right]$ part can be interpreted as a reconstruction loss.\n",
    "\n",
    "* The $\\mathbb{E}_{z \\sim q(z \\mid x)} \\left[ - \\ln p(z) \\right]$ part serves as regularization terms.\n",
    "\n",
    "* It seems that the $\\mathbb{E}_{z \\sim q(z \\mid x)} \\left[ \\ln q(z \\mid x) \\right]$ part has no correspondence in auto-encoder."
   ]
  },
  {
   "cell_type": "markdown",
   "metadata": {},
   "source": [
    "### Example"
   ]
  },
  {
   "cell_type": "markdown",
   "metadata": {},
   "source": [
    "In this very example on the MNIST dataset:\n",
    "\n",
    "\\begin{align}\n",
    "  Z & \\sim \\mathcal{N} (0, 1); \\\\\n",
    "  X \\mid Z & \\sim \\text{Bernoulli}\\left( p(z; \\theta) \\right).\n",
    "\\end{align}\n",
    "\n",
    "And inference distributions:\n",
    "\n",
    "\\begin{align}\n",
    "  Z_0 \\mid X & \\sim \\mathcal{N}\\left( \\mu(x; \\phi_1), \\sigma(x; \\phi_2) \\right); \\\\\n",
    "  Z \\mid Z_0 & \\sim T(z_0).\n",
    "\\end{align}\n",
    "\n",
    "where $Z_0$ obeys the \"base inference distribution\", as a Gaussian; and $T$ is bijective with universality."
   ]
  },
  {
   "cell_type": "markdown",
   "metadata": {},
   "source": [
    "## Implementation"
   ]
  },
  {
   "cell_type": "code",
   "execution_count": 1,
   "metadata": {},
   "outputs": [],
   "source": [
    "%matplotlib inline\n",
    "\n",
    "import matplotlib.pyplot as plt\n",
    "from PIL import Image\n",
    "from tqdm import tqdm\n",
    "import numpy as np\n",
    "import tensorflow as tf\n",
    "import tensorflow.contrib.distributions as tfd\n",
    "from tensorflow.contrib.distributions.python.ops import bijectors as tfb\n",
    "from tensorflow.examples.tutorials.mnist import input_data\n",
    "\n",
    "# For reproducibility\n",
    "seed = 42\n",
    "np.random.seed(seed)\n",
    "tf.set_random_seed(seed)"
   ]
  },
  {
   "cell_type": "markdown",
   "metadata": {},
   "source": [
    "### Functions"
   ]
  },
  {
   "cell_type": "code",
   "execution_count": 2,
   "metadata": {},
   "outputs": [],
   "source": [
    "def get_p_X_z(z, X_dim, hidden_layers=None,\n",
    "              name='p_X_z', reuse=None):\n",
    "  \"\"\"Returns the distribution of P(X|Z).\n",
    "  \n",
    "  X | Z ~ Bernoulli( p(Z) ).\n",
    "  \n",
    "  Args:\n",
    "    z: Tensor of the shape `[batch_size, z_dim]`.\n",
    "    X_dim: Positive integer.\n",
    "    hidden_layers: List of positive integers. Defaults to\n",
    "      `[128, 256, 512]`.\n",
    "    \n",
    "  Returns:\n",
    "    An instance of `tfd.Distribution`.\n",
    "  \"\"\"\n",
    "  if hidden_layers is None:\n",
    "    hidden_layers = [128, 256, 512]\n",
    "    \n",
    "  with tf.variable_scope(name, reuse=reuse):\n",
    "    hidden = z\n",
    "    for hidden_layer in hidden_layers:\n",
    "      hidden = tf.layers.dense(hidden, hidden_layer,\n",
    "                               activation=tf.nn.relu)\n",
    "    logits = tf.layers.dense(hidden, X_dim, activation=None)  \n",
    "    \n",
    "    p_X_yz = tfd.Independent(tfd.Bernoulli(logits=logits))\n",
    "    return p_X_yz"
   ]
  },
  {
   "cell_type": "code",
   "execution_count": 3,
   "metadata": {},
   "outputs": [],
   "source": [
    "def get_q_z_X(X, z_dim, hidden_layers=None, bijectors=None,\n",
    "              dtype='float32', name='q_z_X', reuse=None):\n",
    "  \"\"\"Returns the distribution of Z | X.\n",
    "  \n",
    "  Z = bijector(Z_0), and\n",
    "  Z_0 | X ~ Normal(mu(X;phi), sigma(X;phi)).\n",
    "  \n",
    "  Args:\n",
    "    X: Tensor with shape `[batch_size, X_dim]`.\n",
    "    z_dim: Positive integer.\n",
    "    hidden_layers: List of positive integers. Defaults to\n",
    "      `[512, 256, 128]`.\n",
    "    bijectors: List of `tfb.Bijector`s. Defaults to an empty\n",
    "      list.\n",
    "    \n",
    "  Returns:\n",
    "    An instance of `tfd.Distribution`.\n",
    "  \"\"\"\n",
    "  if bijectors is None:\n",
    "    bijectors = []\n",
    "  if hidden_layers is None:\n",
    "    hidden_layers = [512, 256, 128]\n",
    "    \n",
    "  with tf.variable_scope(name, reuse=reuse):\n",
    "    hidden = X\n",
    "    for hidden_layer in hidden_layers:\n",
    "      hidden = tf.layers.dense(hidden, hidden_layer,\n",
    "                               activation=tf.nn.relu)\n",
    "    # Outputs in the fiber-bundle space\n",
    "    output = tf.layers.dense(hidden, z_dim * 2, activation=None)\n",
    "    # shape: [batch_size, z_dim]\n",
    "    mu, log_var = tf.split(output, [z_dim, z_dim], axis=1)\n",
    "    \n",
    "    q_z0_X = tfd.MultivariateNormalDiag(mu, tf.exp(log_var))\n",
    "    chain = tfb.Chain(bijectors)\n",
    "    q_z_X = tfd.TransformedDistribution(q_z0_X, chain)\n",
    "    return q_z_X"
   ]
  },
  {
   "cell_type": "code",
   "execution_count": 4,
   "metadata": {},
   "outputs": [],
   "source": [
    "def get_bijectors(name='bjiectors', reuse=None):\n",
    "  \"\"\"Complexify the inference distribution by extra-bijectors like\n",
    "  normalizing flows.\n",
    "  \n",
    "  Returns:\n",
    "    List of `Bijector`s.\n",
    "  \"\"\"\n",
    "  with tf.variable_scope(name, reuse=reuse):\n",
    "    bijectors = []\n",
    "    #return bijectors  # test!\n",
    "    for i in range(10):\n",
    "      # Get one bijector\n",
    "      shift_and_log_scale_fn = \\\n",
    "        tfb.masked_autoregressive_default_template([128])\n",
    "      # MAP is extremely slow in training. Use IAF instead.\n",
    "      bijector = tfb.Invert(\n",
    "          tfb.MaskedAutoregressiveFlow(shift_and_log_scale_fn))\n",
    "      bijectors.append(bijector)\n",
    "    return bijectors"
   ]
  },
  {
   "cell_type": "code",
   "execution_count": 5,
   "metadata": {},
   "outputs": [],
   "source": [
    "def get_loss_X(get_q_z_X, get_p_X_z, p_z=None, reuse=None):\n",
    "  \"\"\"L(X) := E_{z ~ q(z|X)} [ log_q(z|X) - log_p(z) - log_p(X|z) ].\n",
    "  \n",
    "  Args:\n",
    "    get_q_z_X: Callable that returns an instance of `tfd.Distribution`,\n",
    "      as the q(z|X), which takes arguments `X` and `reuse`.\n",
    "    get_p_X_z: Callable that returns an instance of `tfd.Distribution`,\n",
    "      as the p(X|z), which takes arguments `z`, and `reuse`.\n",
    "    p_z: An instance of `tfd.Distribution`, as the p(z). Defaults to\n",
    "      flatten prior.\n",
    "    reuse: If reuse the variables in `get_q_z_X` and `get_p_X_z`.\n",
    "    \n",
    "  Returns:\n",
    "    Callable that maps two tensors of the shape `[batch_size, Xdim]`\n",
    "    to a scalar.\n",
    "  \"\"\"\n",
    "  \n",
    "  def loss_X(X,name='loss_X'):\n",
    "    \"\"\"\n",
    "    Args:\n",
    "      X: Tensor of the shape `[batch_size, X_dim]`.\n",
    "\n",
    "    Returns:\n",
    "      A scalar.\n",
    "    \"\"\"\n",
    "    with tf.name_scope(name):\n",
    "      # Get the distribution q(z|X)\n",
    "      q_z_X = get_q_z_X(X, reuse=reuse)\n",
    "      \n",
    "      # Get the distribution p(X|z)\n",
    "      z_samples = q_z_X.sample()\n",
    "      p_X_z = get_p_X_z(z_samples, reuse=reuse)\n",
    "      \n",
    "      # Compute the tensor of L(X)\n",
    "      loss_X_tensor = tf.zeros([batch_size])  # initialize.\n",
    "      # E_{z ~ q(z|X)} [ log_q(z|X) ]\n",
    "      loss_X_tensor += q_z_X.log_prob(z_samples)\n",
    "      if p_z is not None:\n",
    "        # E_{z ~ q(z|X)} [ - log_p(z) ]\n",
    "        loss_X_tensor += -1 * p_z.log_prob(z_samples)\n",
    "      # E_{z ~ q(z|X)} [ - log_p(X|z) ]\n",
    "      loss_X_tensor += -1 * p_X_z.log_prob(X)\n",
    "      loss_X_scalar = tf.reduce_mean(loss_X_tensor)\n",
    "      return loss_X_scalar\n",
    "    \n",
    "  return loss_X"
   ]
  },
  {
   "cell_type": "markdown",
   "metadata": {},
   "source": [
    "### Loss"
   ]
  },
  {
   "cell_type": "code",
   "execution_count": 6,
   "metadata": {},
   "outputs": [],
   "source": [
    "batch_size = 128\n",
    "X_dim = 28 * 28\n",
    "X = tf.placeholder(shape=[batch_size, X_dim], dtype='float32', name='X')"
   ]
  },
  {
   "cell_type": "code",
   "execution_count": 7,
   "metadata": {},
   "outputs": [],
   "source": [
    "z_dim = 64\n",
    "p_z = tfd.MultivariateNormalDiag(tf.zeros([z_dim]), name='p_z')"
   ]
  },
  {
   "cell_type": "code",
   "execution_count": 8,
   "metadata": {},
   "outputs": [],
   "source": [
    "def _get_q_z_X(X, reuse):\n",
    "  bijectors = get_bijectors(reuse=reuse)\n",
    "  #bijectors = []  # test!\n",
    "  return get_q_z_X(X, z_dim, bijectors=bijectors, reuse=reuse)\n",
    "\n",
    "def _get_p_X_z(z, reuse):\n",
    "  return get_p_X_z(z, X_dim=X_dim, reuse=reuse)\n",
    "\n",
    "loss_X = get_loss_X(_get_q_z_X, _get_p_X_z,\n",
    "                    p_z=p_z, reuse=tf.AUTO_REUSE)\n",
    "loss_X_scalar = loss_X(X)"
   ]
  },
  {
   "cell_type": "markdown",
   "metadata": {},
   "source": [
    "### Generating"
   ]
  },
  {
   "cell_type": "code",
   "execution_count": 9,
   "metadata": {},
   "outputs": [],
   "source": [
    "z_samples = tf.placeholder(shape=[batch_size, z_dim],\n",
    "                           dtype='float32',\n",
    "                           name='z_samples')\n",
    "X_samples = _get_p_X_z(z_samples, reuse=tf.AUTO_REUSE).sample()"
   ]
  },
  {
   "cell_type": "code",
   "execution_count": 10,
   "metadata": {},
   "outputs": [],
   "source": [
    "def get_image(array):\n",
    "  \"\"\"\n",
    "  Args:\n",
    "    array: Numpy array with shape `[28*28]`.\n",
    "    \n",
    "  Returns:\n",
    "    An image.\n",
    "  \"\"\"\n",
    "  array = 255 * array\n",
    "  array = array.reshape([28, 28])\n",
    "  array = array.astype(np.uint8)\n",
    "  return Image.fromarray(array)"
   ]
  },
  {
   "cell_type": "markdown",
   "metadata": {},
   "source": [
    "### Training"
   ]
  },
  {
   "cell_type": "code",
   "execution_count": 11,
   "metadata": {},
   "outputs": [],
   "source": [
    "train_op = tf.train.AdamOptimizer().minimize(loss_X_scalar)"
   ]
  },
  {
   "cell_type": "code",
   "execution_count": 12,
   "metadata": {},
   "outputs": [],
   "source": [
    "sess = tf.Session()\n",
    "sess.run(tf.global_variables_initializer())"
   ]
  },
  {
   "cell_type": "code",
   "execution_count": 13,
   "metadata": {},
   "outputs": [
    {
     "name": "stdout",
     "output_type": "stream",
     "text": [
      "WARNING:tensorflow:From <ipython-input-13-d3a6b8461b73>:1: read_data_sets (from tensorflow.contrib.learn.python.learn.datasets.mnist) is deprecated and will be removed in a future version.\n",
      "Instructions for updating:\n",
      "Please use alternatives such as official/mnist/dataset.py from tensorflow/models.\n",
      "WARNING:tensorflow:From /home/apps/anaconda3/lib/python3.6/site-packages/tensorflow/contrib/learn/python/learn/datasets/mnist.py:260: maybe_download (from tensorflow.contrib.learn.python.learn.datasets.base) is deprecated and will be removed in a future version.\n",
      "Instructions for updating:\n",
      "Please write your own downloading logic.\n",
      "WARNING:tensorflow:From /home/apps/anaconda3/lib/python3.6/site-packages/tensorflow/contrib/learn/python/learn/datasets/mnist.py:262: extract_images (from tensorflow.contrib.learn.python.learn.datasets.mnist) is deprecated and will be removed in a future version.\n",
      "Instructions for updating:\n",
      "Please use tf.data to implement this functionality.\n",
      "Extracting dat/MNIST/train-images-idx3-ubyte.gz\n",
      "WARNING:tensorflow:From /home/apps/anaconda3/lib/python3.6/site-packages/tensorflow/contrib/learn/python/learn/datasets/mnist.py:267: extract_labels (from tensorflow.contrib.learn.python.learn.datasets.mnist) is deprecated and will be removed in a future version.\n",
      "Instructions for updating:\n",
      "Please use tf.data to implement this functionality.\n",
      "Extracting dat/MNIST/train-labels-idx1-ubyte.gz\n",
      "WARNING:tensorflow:From /home/apps/anaconda3/lib/python3.6/site-packages/tensorflow/contrib/learn/python/learn/datasets/mnist.py:110: dense_to_one_hot (from tensorflow.contrib.learn.python.learn.datasets.mnist) is deprecated and will be removed in a future version.\n",
      "Instructions for updating:\n",
      "Please use tf.one_hot on tensors.\n",
      "Extracting dat/MNIST/t10k-images-idx3-ubyte.gz\n",
      "Extracting dat/MNIST/t10k-labels-idx1-ubyte.gz\n",
      "WARNING:tensorflow:From /home/apps/anaconda3/lib/python3.6/site-packages/tensorflow/contrib/learn/python/learn/datasets/mnist.py:290: DataSet.__init__ (from tensorflow.contrib.learn.python.learn.datasets.mnist) is deprecated and will be removed in a future version.\n",
      "Instructions for updating:\n",
      "Please use alternatives such as official/mnist/dataset.py from tensorflow/models.\n"
     ]
    }
   ],
   "source": [
    "mnist = input_data.read_data_sets('dat/MNIST', one_hot=True)\n",
    "\n",
    "def get_X_y_batch():\n",
    "    X_batch, y_batch = mnist.train.next_batch(batch_size)\n",
    "    # Since X | Y, Z ~ Bernoulli, the observed value of X shall\n",
    "    # either be 0 or 1,\n",
    "    X_batch = np.where(X_batch >= 0.5, np.ones_like(X_batch),\n",
    "                       np.zeros_like(X_batch))\n",
    "    return X_batch, y_batch"
   ]
  },
  {
   "cell_type": "code",
   "execution_count": 14,
   "metadata": {},
   "outputs": [
    {
     "name": "stderr",
     "output_type": "stream",
     "text": [
      "100%|██████████| 100000/100000 [13:03<00:00, 127.57it/s]\n"
     ]
    },
    {
     "data": {
      "image/png": "[encoded data removed]",
      "text/plain": [
       "<Figure size 432x288 with 1 Axes>"
      ]
     },
     "metadata": {},
     "output_type": "display_data"
    },
    {
     "data": {
      "image/png": "[encoded data removed]",
      "text/plain": [
       "<Figure size 432x288 with 1 Axes>"
      ]
     },
     "metadata": {},
     "output_type": "display_data"
    },
    {
     "name": "stdout",
     "output_type": "stream",
     "text": [
      "Final loss: 94.2816\n"
     ]
    }
   ],
   "source": [
    "loss_vals = []\n",
    "for i in tqdm(range(100000)):\n",
    "  X_batch, y_batch = mnist.train.next_batch(batch_size)\n",
    "  _, loss_val = sess.run([train_op, loss_X_scalar], {X: X_batch})\n",
    "  if np.isnan(loss_val):\n",
    "    raise ValueError('Loss has been NaN.')\n",
    "  loss_vals.append(loss_val)\n",
    "  \n",
    "# Visualization\n",
    "plt.plot(loss_vals)\n",
    "plt.xlabel('steps')\n",
    "plt.ylabel('loss')\n",
    "plt.show()\n",
    "\n",
    "# Zoomed in\n",
    "last_steps = 20000\n",
    "plt.plot(loss_vals[-last_steps:])\n",
    "plt.xlabel('last steps')\n",
    "plt.ylabel('loss')\n",
    "plt.show()\n",
    "\n",
    "print('Final loss:', np.mean(loss_vals[-100:]))"
   ]
  },
  {
   "cell_type": "code",
   "execution_count": 21,
   "metadata": {},
   "outputs": [
    {
     "name": "stdout",
     "output_type": "stream",
     "text": [
      "Generated:\n"
     ]
    },
    {
     "data": {
      "image/png": "[encoded data removed]",
      "text/plain": [
       "<PIL.Image.Image image mode=L size=28x28 at 0x7FC2543F4F98>"
      ]
     },
     "execution_count": 21,
     "metadata": {},
     "output_type": "execute_result"
    }
   ],
   "source": [
    "z_sample_vals = np.random.normal(size=[batch_size, z_dim])\n",
    "X_sample_vals = sess.run(X_samples, {z_samples: z_sample_vals})\n",
    "print('Generated:')\n",
    "get_image(X_sample_vals[0])"
   ]
  },
  {
   "cell_type": "markdown",
   "metadata": {},
   "source": [
    "### Effect of Normalizing-flow"
   ]
  },
  {
   "cell_type": "markdown",
   "metadata": {},
   "source": [
    "* While not employing normalizing flow, 100000 iterations give the final loss about 97.8.\n",
    "* With 10 normalizing flows, 100000 iterations give the final loss 93.5 (improved 4.3)."
   ]
  },
  {
   "cell_type": "code",
   "execution_count": 22,
   "metadata": {},
   "outputs": [
    {
     "data": {
      "text/plain": [
       "54.598150033144236"
      ]
     },
     "execution_count": 22,
     "metadata": {},
     "output_type": "execute_result"
    }
   ],
   "source": [
    "np.exp(4)"
   ]
  },
  {
   "cell_type": "code",
   "execution_count": null,
   "metadata": {},
   "outputs": [],
   "source": []
  }
 ],
 "metadata": {
  "kernelspec": {
   "display_name": "Python 3",
   "language": "python",
   "name": "python3"
  },
  "language_info": {
   "codemirror_mode": {
    "name": "ipython",
    "version": 3
   },
   "file_extension": ".py",
   "mimetype": "text/x-python",
   "name": "python",
   "nbconvert_exporter": "python",
   "pygments_lexer": "ipython3",
   "version": "3.6.5"
  },
  "toc": {
   "base_numbering": 1,
   "nav_menu": {},
   "number_sections": true,
   "sideBar": true,
   "skip_h1_title": false,
   "title_cell": "Table of Contents",
   "title_sidebar": "Contents",
   "toc_cell": false,
   "toc_position": {},
   "toc_section_display": true,
   "toc_window_display": false
  }
 },
 "nbformat": 4,
 "nbformat_minor": 2
}
