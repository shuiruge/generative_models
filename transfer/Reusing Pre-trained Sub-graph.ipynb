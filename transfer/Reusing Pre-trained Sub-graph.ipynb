{
 "cells": [
  {
   "cell_type": "markdown",
   "metadata": {},
   "source": [
    "Reusing Pre-trained Sub-graph\n",
    "============================="
   ]
  },
  {
   "cell_type": "markdown",
   "metadata": {},
   "source": [
    "## Problem"
   ]
  },
  {
   "cell_type": "code",
   "execution_count": 1,
   "metadata": {},
   "outputs": [],
   "source": [
    "%matplotlib inline\n",
    "\n",
    "import os\n",
    "import numpy as np\n",
    "import tensorflow as tf\n",
    "from tensorflow.examples.tutorials.mnist import input_data\n",
    "import matplotlib.pyplot as plt\n",
    "from tqdm import trange\n",
    "from tfutils.graph import get_dependent_variables\n",
    "from tfutils.train import save_variables, restore_variables\n",
    "\n",
    "# For reproducibility\n",
    "seed = 42\n",
    "np.random.seed(seed)\n",
    "tf.set_random_seed(seed)"
   ]
  },
  {
   "cell_type": "markdown",
   "metadata": {},
   "source": [
    "For illustration, let's employ MNIST, which fastens the experiment greatly."
   ]
  },
  {
   "cell_type": "code",
   "execution_count": 2,
   "metadata": {},
   "outputs": [],
   "source": [
    "DATA_DIR = './dat/'\n",
    "\n",
    "mnist = input_data.read_data_sets(\n",
    "    os.path.join(DATA_DIR, 'MNIST'),\n",
    "    one_hot=True,\n",
    "    source_url='http://yann.lecun.com/exdb/mnist/')\n",
    "\n",
    "def get_X_batch(batch_size):\n",
    "    \"\"\"The value of the X-batch is binary, being either `0.0` or `1.0`.\n",
    "    \n",
    "    Args:\n",
    "        batch_size: Positive integer.\n",
    "    \n",
    "    Returns:\n",
    "        A numpy array of the shape `[batch_size, 28*28]`.\n",
    "    \"\"\"\n",
    "    X_batch, _ = mnist.train.next_batch(batch_size)\n",
    "    X_batch = np.where(X_batch>0.5, np.ones_like(X_batch), np.zeros_like(X_batch))\n",
    "    return X_batch"
   ]
  },
  {
   "cell_type": "code",
   "execution_count": 3,
   "metadata": {},
   "outputs": [],
   "source": [
    "def deep_nn(inputs, units, name='deep_nn', reuse=None):\n",
    "    \"\"\"Builds sub-graph.\n",
    "    \n",
    "    Args:\n",
    "        inputs: Tensor of the shape `[B, ?]`.\n",
    "        units: List of positive integers.\n",
    "        name: String.\n",
    "        reuse: Boolean.\n",
    "        \n",
    "    Returns:\n",
    "        Tensor of the shape `[B, units[-1]]`.\n",
    "    \"\"\"\n",
    "    with tf.variable_scope(name, reuse=reuse):\n",
    "        hidden = inputs\n",
    "        for unit in units[:-1]:\n",
    "            hidden = tf.layers.dense(\n",
    "                hidden, unit, activation=tf.nn.relu)\n",
    "        outputs = tf.layers.dense(\n",
    "            hidden, units[-1], activation=None)\n",
    "        return outputs"
   ]
  },
  {
   "cell_type": "code",
   "execution_count": 4,
   "metadata": {},
   "outputs": [],
   "source": [
    "def smear(values, window_size):\n",
    "    \"\"\"Auxillary function for plotting. If the plot are bushing,\n",
    "    e.g. plot of loss-values, smearing is called for.\n",
    "    \n",
    "    Args:\n",
    "        values: List of real numbers.\n",
    "        window_size: Positive integer.\n",
    "    \n",
    "    Returns:\n",
    "        List of real numbers.\n",
    "    \"\"\"\n",
    "    smeared = []\n",
    "    for i, _ in enumerate(values):\n",
    "        \n",
    "        # Get values-in-window\n",
    "        start_id = i + 1 - window_size\n",
    "        if start_id < 0:\n",
    "            start_id = 0\n",
    "        end_id = i + 1\n",
    "        values_in_window = values[start_id:end_id]\n",
    "        \n",
    "        smeared.append(np.mean(values_in_window))\n",
    "    return smeared"
   ]
  },
  {
   "cell_type": "markdown",
   "metadata": {},
   "source": [
    "### Simple Auto-encoder"
   ]
  },
  {
   "cell_type": "markdown",
   "metadata": {},
   "source": [
    "To illustrate the problem, we first build and train a simple auto-encoder, with a `256`-dimensional latent space, and units of layers:\n",
    "\n",
    "    28*28 -> 512 -> 256 -> 512 -> 28*28"
   ]
  },
  {
   "cell_type": "code",
   "execution_count": 5,
   "metadata": {},
   "outputs": [],
   "source": [
    "tf.reset_default_graph()"
   ]
  },
  {
   "cell_type": "code",
   "execution_count": 6,
   "metadata": {},
   "outputs": [],
   "source": [
    "X_ph = tf.placeholder(shape=[None, 28*28], dtype='float32', name='X')"
   ]
  },
  {
   "cell_type": "code",
   "execution_count": 7,
   "metadata": {},
   "outputs": [],
   "source": [
    "encoded = deep_nn(X_ph, [512, 256], name='encoder_0')\n",
    "decoded = deep_nn(encoded, [512, 28*28], name='decoder_0')"
   ]
  },
  {
   "cell_type": "code",
   "execution_count": 8,
   "metadata": {},
   "outputs": [],
   "source": [
    "loss = (tf.losses.sigmoid_cross_entropy(X_ph, decoded)\n",
    "        + tf.reduce_mean(tf.square(encoded)))"
   ]
  },
  {
   "cell_type": "code",
   "execution_count": 9,
   "metadata": {},
   "outputs": [],
   "source": [
    "optimizer = tf.train.AdamOptimizer(epsilon=1e-3)\n",
    "train_op = optimizer.minimize(loss)"
   ]
  },
  {
   "cell_type": "code",
   "execution_count": 10,
   "metadata": {},
   "outputs": [],
   "source": [
    "sess = tf.Session()\n",
    "sess.run(tf.global_variables_initializer())"
   ]
  },
  {
   "cell_type": "code",
   "execution_count": 11,
   "metadata": {},
   "outputs": [
    {
     "name": "stderr",
     "output_type": "stream",
     "text": [
      "100%|██████████| 30000/30000 [07:30<00:00, 66.67it/s]\n"
     ]
    }
   ],
   "source": [
    "N_ITERS = 30000\n",
    "BATCH_SIZE = 128\n",
    "\n",
    "loss_vals_0 = []\n",
    "\n",
    "for step in trange(N_ITERS):\n",
    "    X_batch = get_X_batch(BATCH_SIZE)\n",
    "    _, loss_val = sess.run([train_op, loss], {X_ph: X_batch})\n",
    "    loss_vals_0.append(loss_val)"
   ]
  },
  {
   "cell_type": "code",
   "execution_count": 12,
   "metadata": {},
   "outputs": [
    {
     "data": {
      "image/png": "[encoded data removed]",
      "text/plain": [
       "<Figure size 432x288 with 1 Axes>"
      ]
     },
     "metadata": {},
     "output_type": "display_data"
    },
    {
     "name": "stdout",
     "output_type": "stream",
     "text": [
      "Final loss: 0.11432374\n"
     ]
    }
   ],
   "source": [
    "WINDOW_SIZE = 50\n",
    "\n",
    "plt.plot(smear(loss_vals_0, WINDOW_SIZE), label='simple')\n",
    "plt.legend()\n",
    "plt.show()\n",
    "print('Final loss:', np.mean(loss_vals_0[-WINDOW_SIZE:]))"
   ]
  },
  {
   "cell_type": "markdown",
   "metadata": {},
   "source": [
    "The following cell is for the later usage (to be declared in the section \"Stacked Auto-encoder with Pre-trained\")."
   ]
  },
  {
   "cell_type": "code",
   "execution_count": 13,
   "metadata": {},
   "outputs": [],
   "source": [
    "SAVE_DIR = os.path.join(DATA_DIR, 'checkpoints/')\n",
    "\n",
    "save_variables(sess, 'encoder_0', SAVE_DIR)\n",
    "save_variables(sess, 'decoder_0', SAVE_DIR)"
   ]
  },
  {
   "cell_type": "code",
   "execution_count": 14,
   "metadata": {},
   "outputs": [],
   "source": [
    "sess.close()"
   ]
  },
  {
   "cell_type": "markdown",
   "metadata": {},
   "source": [
    "### Stacked Auto-encoder"
   ]
  },
  {
   "cell_type": "markdown",
   "metadata": {},
   "source": [
    "Next, we are to compress (and thus abstract) the data further. That is, to build and train a deeper auto-encoder, with a `64`-dimensional latent space, and units of layers:\n",
    "\n",
    "    28*28 -> 512 -> 256 -> 128 -> 64 -> 128 -> 256 -> 512 -> 28*28\n",
    "    \n",
    "Comparing with the first simple auto-encoder, in this model, we insert nothing but a `-> 128 -> 64 -> 128 -> 256` sub-graph into the simple auto-encoder. This is why we call it \"stacked\"."
   ]
  },
  {
   "cell_type": "code",
   "execution_count": 15,
   "metadata": {},
   "outputs": [],
   "source": [
    "tf.reset_default_graph()"
   ]
  },
  {
   "cell_type": "code",
   "execution_count": 16,
   "metadata": {},
   "outputs": [],
   "source": [
    "X_ph = tf.placeholder(shape=[None, 28*28], dtype='float32', name='X')"
   ]
  },
  {
   "cell_type": "code",
   "execution_count": 17,
   "metadata": {},
   "outputs": [],
   "source": [
    "encoded_0 = deep_nn(X_ph, [512, 256], name='encoder_0')\n",
    "encoded_1 = deep_nn(encoded_0, [128, 64], name='encoder_1')\n",
    "decoded_1 = deep_nn(encoded_1, [128, 256], name='decoder_1')\n",
    "decoded_0 = deep_nn(decoded_1, [512, 28*28], name='decoder_0')"
   ]
  },
  {
   "cell_type": "code",
   "execution_count": 18,
   "metadata": {},
   "outputs": [],
   "source": [
    "loss = (tf.losses.sigmoid_cross_entropy(X_ph, decoded_0)\n",
    "        + tf.reduce_mean(tf.square(encoded_1)))"
   ]
  },
  {
   "cell_type": "code",
   "execution_count": 19,
   "metadata": {},
   "outputs": [],
   "source": [
    "optimizer = tf.train.AdamOptimizer(epsilon=1e-3)\n",
    "train_op = optimizer.minimize(loss)"
   ]
  },
  {
   "cell_type": "code",
   "execution_count": 20,
   "metadata": {},
   "outputs": [],
   "source": [
    "sess = tf.Session()\n",
    "sess.run(tf.global_variables_initializer())"
   ]
  },
  {
   "cell_type": "code",
   "execution_count": 21,
   "metadata": {},
   "outputs": [
    {
     "name": "stderr",
     "output_type": "stream",
     "text": [
      "100%|██████████| 30000/30000 [07:52<00:00, 63.51it/s]\n"
     ]
    }
   ],
   "source": [
    "loss_vals_1 = []\n",
    "\n",
    "for step in trange(N_ITERS):\n",
    "    X_batch = get_X_batch(BATCH_SIZE)\n",
    "    _, loss_val = sess.run([train_op, loss], {X_ph: X_batch})\n",
    "    loss_vals_1.append(loss_val)"
   ]
  },
  {
   "cell_type": "code",
   "execution_count": 22,
   "metadata": {},
   "outputs": [
    {
     "data": {
      "image/png": "[encoded data removed]",
      "text/plain": [
       "<Figure size 432x288 with 1 Axes>"
      ]
     },
     "metadata": {},
     "output_type": "display_data"
    },
    {
     "name": "stdout",
     "output_type": "stream",
     "text": [
      "Final loss: 0.15823662\n"
     ]
    }
   ],
   "source": [
    "plt.plot(smear(loss_vals_1, WINDOW_SIZE), label='stacked')\n",
    "plt.plot(smear(loss_vals_0, WINDOW_SIZE), label='simple')  # as comparison.\n",
    "plt.legend()\n",
    "plt.show()\n",
    "print('Final loss:', np.mean(loss_vals_1[-WINDOW_SIZE:]))"
   ]
  },
  {
   "cell_type": "markdown",
   "metadata": {},
   "source": [
    "And let's zoom in the first severl steps (without smearing)"
   ]
  },
  {
   "cell_type": "code",
   "execution_count": 23,
   "metadata": {},
   "outputs": [
    {
     "data": {
      "image/png": "[encoded data removed]",
      "text/plain": [
       "<Figure size 432x288 with 1 Axes>"
      ]
     },
     "metadata": {},
     "output_type": "display_data"
    }
   ],
   "source": [
    "plt.plot(loss_vals_1[:1000], label='stacked')\n",
    "plt.plot(loss_vals_0[:1000], label='simple')  # as comparison.\n",
    "plt.legend()\n",
    "plt.show()"
   ]
  },
  {
   "cell_type": "code",
   "execution_count": 24,
   "metadata": {},
   "outputs": [],
   "source": [
    "sess.close()"
   ]
  },
  {
   "cell_type": "markdown",
   "metadata": {},
   "source": [
    "* Comparing with the simple auto-encoder, the stacked auto-encoder cannot get a smaller loss, even though having a much greater representability.\n",
    "\n",
    "* If we have infinite resource and time, we would expect that the loss of the stacked can finally be smaller than that of the simple one. But the problem is how to make it smaller when we only have finite resource and time, which, after all, is the very reality."
   ]
  },
  {
   "cell_type": "markdown",
   "metadata": {},
   "source": [
    "#### Non-efficiency of Training Deeper Model\n",
    "\n",
    "Thus, we have encountered the big problem of training deeper model: the non-efficiency (and further, the instability).\n",
    "\n",
    "Since the first layer is randomly initialized, the information of data cannot be passed to the following layers without being greatly lost. And since the second layer is randomly initialized, the information of data cannot be passed to the following layers without being greatly lost. E.t.c. This mechanism delays the cooperation between the layers, which is expected as the most important feature of a deeper model would benefit.\n",
    "\n",
    "The non-efficiency also brings instability. Randomness in the forward propagation causes the randomness in the backward. The updation of variables in the backward propagation, then, cannot be surely stable."
   ]
  },
  {
   "cell_type": "markdown",
   "metadata": {},
   "source": [
    "## Solution"
   ]
  },
  {
   "cell_type": "markdown",
   "metadata": {},
   "source": [
    "There have been several solutions to this problem. Like the [highway or residual structure](http://www.cs.toronto.edu/~fidler/teaching/2015/slides/CSC2523/renjie_highwayNNs.pdf) of network. Herein we employ the strategy of reusing pre-training sub-graph."
   ]
  },
  {
   "cell_type": "markdown",
   "metadata": {},
   "source": [
    "Indeed, if we reuse the pre-trained sub-graph in the first several layers, then the information can be passed into the following layers, which thus will be efficiently trained (in this stage of training, the pre-trained variables are fixed). And once the information can be passed through the whole model, we train the model (in this stage, all variables in the model) for enhancing the cooperation bewteen layers, lighlighting the great power of deeper model."
   ]
  },
  {
   "cell_type": "markdown",
   "metadata": {},
   "source": [
    "In the following, we will show how to reuse pre-trained sub-graph in _TensorFlow_, which is quite straight-forward.\n",
    "\n",
    "This implementation is also for transfer-learning."
   ]
  },
  {
   "cell_type": "markdown",
   "metadata": {},
   "source": [
    "### Stacked Auto-encoder with Pre-training"
   ]
  },
  {
   "cell_type": "code",
   "execution_count": 25,
   "metadata": {},
   "outputs": [],
   "source": [
    "tf.reset_default_graph()"
   ]
  },
  {
   "cell_type": "code",
   "execution_count": 26,
   "metadata": {},
   "outputs": [],
   "source": [
    "X_ph = tf.placeholder(shape=[None, 28*28], dtype='float32', name='X')"
   ]
  },
  {
   "cell_type": "code",
   "execution_count": 27,
   "metadata": {},
   "outputs": [],
   "source": [
    "encoded_0 = deep_nn(X_ph, [512, 256], name='encoder_0')\n",
    "encoded_1 = deep_nn(encoded_0, [128, 64], name='encoder_1')\n",
    "decoded_1 = deep_nn(encoded_1, [128, 256], name='decoder_1')\n",
    "decoded_0 = deep_nn(decoded_1, [512, 28*28], name='decoder_0')"
   ]
  },
  {
   "cell_type": "code",
   "execution_count": 28,
   "metadata": {},
   "outputs": [],
   "source": [
    "loss = tf.losses.sigmoid_cross_entropy(X_ph, decoded_0)"
   ]
  },
  {
   "cell_type": "code",
   "execution_count": 29,
   "metadata": {},
   "outputs": [],
   "source": [
    "optimizer = tf.train.AdamOptimizer(epsilon=1e-3)\n",
    "train_op = optimizer.minimize(loss)"
   ]
  },
  {
   "cell_type": "code",
   "execution_count": 30,
   "metadata": {},
   "outputs": [],
   "source": [
    "def is_pretrained(variable):\n",
    "    \"\"\"\n",
    "    Args:\n",
    "        variable: An instance of `tf.Variable`.\n",
    "        \n",
    "    Returns:\n",
    "        Boolean.\n",
    "    \"\"\"\n",
    "    if variable.name.startswith('encoder_0'):\n",
    "        return True\n",
    "    if variable.name.startswith('decoder_0'):\n",
    "        return True\n",
    "    return False\n",
    "\n",
    "vars_without_pretrained = [var for var in get_dependent_variables(loss)\n",
    "                           if not is_pretrained(var)]\n",
    "train_op_pretrained = optimizer.minimize(\n",
    "    loss, var_list=vars_without_pretrained)"
   ]
  },
  {
   "cell_type": "code",
   "execution_count": 31,
   "metadata": {},
   "outputs": [],
   "source": [
    "sess = tf.Session()\n",
    "sess.run(tf.global_variables_initializer())"
   ]
  },
  {
   "cell_type": "code",
   "execution_count": 32,
   "metadata": {},
   "outputs": [
    {
     "name": "stdout",
     "output_type": "stream",
     "text": [
      "INFO:tensorflow:Restoring parameters from ./dat/checkpoints/encoder_0_scope.ckpt\n",
      "INFO:tensorflow:Restoring parameters from ./dat/checkpoints/decoder_0_scope.ckpt\n"
     ]
    }
   ],
   "source": [
    "restore_variables(sess, 'encoder_0', SAVE_DIR)\n",
    "restore_variables(sess, 'decoder_0', SAVE_DIR)"
   ]
  },
  {
   "cell_type": "markdown",
   "metadata": {},
   "source": [
    "We train the model by fixing the pre-trained variables for the first 1/5 iterations, and then finish the rest iterations without any fixing."
   ]
  },
  {
   "cell_type": "code",
   "execution_count": 33,
   "metadata": {},
   "outputs": [
    {
     "name": "stderr",
     "output_type": "stream",
     "text": [
      "100%|██████████| 6000/6000 [01:04<00:00, 93.05it/s] \n"
     ]
    }
   ],
   "source": [
    "# With the pre-trained being fixed.\n",
    "\n",
    "loss_vals_2 = []\n",
    "\n",
    "for step in trange(int(N_ITERS/5)):\n",
    "    X_batch = get_X_batch(BATCH_SIZE)\n",
    "    _, loss_val = sess.run([train_op_pretrained, loss], {X_ph: X_batch})\n",
    "    loss_vals_2.append(loss_val)"
   ]
  },
  {
   "cell_type": "code",
   "execution_count": 34,
   "metadata": {},
   "outputs": [
    {
     "data": {
      "image/png": "[encoded data removed]",
      "text/plain": [
       "<Figure size 432x288 with 1 Axes>"
      ]
     },
     "metadata": {},
     "output_type": "display_data"
    },
    {
     "name": "stdout",
     "output_type": "stream",
     "text": [
      "Middle loss: 0.10416974\n"
     ]
    }
   ],
   "source": [
    "# Plot the middle stage for comparison\n",
    "\n",
    "plt.plot(smear(loss_vals_2, WINDOW_SIZE), label='pre-trained')\n",
    "plt.plot(smear(loss_vals_1[:len(loss_vals_2)], WINDOW_SIZE),\n",
    "         label='stacked')\n",
    "plt.legend()\n",
    "plt.show()\n",
    "print('Middle loss:', np.mean(loss_vals_2[-WINDOW_SIZE:]))"
   ]
  },
  {
   "cell_type": "code",
   "execution_count": 35,
   "metadata": {},
   "outputs": [
    {
     "name": "stderr",
     "output_type": "stream",
     "text": [
      "100%|██████████| 24000/24000 [06:30<00:00, 61.87it/s]\n"
     ]
    }
   ],
   "source": [
    "# Without any fixing.\n",
    "\n",
    "for step in trange(int(N_ITERS/5*4)):\n",
    "    X_batch = get_X_batch(BATCH_SIZE)\n",
    "    _, loss_val = sess.run([train_op, loss], {X_ph: X_batch})\n",
    "    loss_vals_2.append(loss_val)"
   ]
  },
  {
   "cell_type": "code",
   "execution_count": 36,
   "metadata": {},
   "outputs": [
    {
     "data": {
      "image/png": "[encoded data removed]",
      "text/plain": [
       "<Figure size 432x288 with 1 Axes>"
      ]
     },
     "metadata": {},
     "output_type": "display_data"
    },
    {
     "name": "stdout",
     "output_type": "stream",
     "text": [
      "Final loss: 0.061530095\n"
     ]
    }
   ],
   "source": [
    "plt.plot(smear(loss_vals_2, WINDOW_SIZE), label='pre-trained')\n",
    "plt.legend()\n",
    "plt.show()\n",
    "print('Final loss:', np.mean(loss_vals_2[-WINDOW_SIZE:]))"
   ]
  },
  {
   "cell_type": "code",
   "execution_count": 37,
   "metadata": {},
   "outputs": [],
   "source": [
    "sess.close()"
   ]
  },
  {
   "cell_type": "code",
   "execution_count": 38,
   "metadata": {},
   "outputs": [
    {
     "data": {
      "image/png": "[encoded data removed]",
      "text/plain": [
       "<Figure size 432x288 with 1 Axes>"
      ]
     },
     "metadata": {},
     "output_type": "display_data"
    }
   ],
   "source": [
    "# Comparison\n",
    "\n",
    "plt.plot(smear(loss_vals_0, WINDOW_SIZE), label='simple')\n",
    "plt.plot(smear(loss_vals_1, WINDOW_SIZE), label='stacked')\n",
    "plt.plot(smear(loss_vals_2, WINDOW_SIZE), label='pre-trained')\n",
    "plt.legend()\n",
    "plt.show()"
   ]
  },
  {
   "cell_type": "markdown",
   "metadata": {},
   "source": [
    "The one with pre-training wins, as expected."
   ]
  }
 ],
 "metadata": {
  "kernelspec": {
   "display_name": "Python 3",
   "language": "python",
   "name": "python3"
  },
  "language_info": {
   "codemirror_mode": {
    "name": "ipython",
    "version": 3
   },
   "file_extension": ".py",
   "mimetype": "text/x-python",
   "name": "python",
   "nbconvert_exporter": "python",
   "pygments_lexer": "ipython3",
   "version": "3.6.5"
  }
 },
 "nbformat": 4,
 "nbformat_minor": 2
}
